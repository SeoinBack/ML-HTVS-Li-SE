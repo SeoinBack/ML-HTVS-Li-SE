{
 "cells": [
  {
   "cell_type": "code",
   "execution_count": 1,
   "id": "94c1fb7d",
   "metadata": {},
   "outputs": [],
   "source": [
    "import pandas as pd\n",
    "from tqdm.auto import tqdm\n",
    "from ast import literal_eval\n",
    "from pymatgen.ext.matproj import MPRester\n",
    "from pymatgen.core import Composition\n",
    "\n",
    "from htvs_module.htvs_mods import substitution, comp_to_form\n",
    "\n",
    "mpr = MPRester('WgPaLVntnoS3X3tdlT')"
   ]
  },
  {
   "cell_type": "markdown",
   "id": "dfd1b830",
   "metadata": {},
   "source": [
    "# Li containing materials from Materials Project"
   ]
  },
  {
   "cell_type": "code",
   "execution_count": 2,
   "id": "11bb9bd1",
   "metadata": {},
   "outputs": [
    {
     "data": {
      "application/vnd.jupyter.widget-view+json": {
       "model_id": "e706bc7a22e44fcebb4cdb8ca07e9803",
       "version_major": 2,
       "version_minor": 0
      },
      "text/plain": [
       "  0%|          | 0/5037 [00:00<?, ?it/s]"
      ]
     },
     "metadata": {},
     "output_type": "display_data"
    }
   ],
   "source": [
    "data = mpr.query({\"elements\":'Li','nelements':{ \"$gte\" : 3 , \"$lte\" : 3}}, properties=['material_id',\"pretty_formula\",'elements','formula','cif'])\n",
    "df = pd.DataFrame(data)\n",
    "df.to_csv('./data/01_1_all_Li_material_from_MP.csv',index=False)"
   ]
  },
  {
   "cell_type": "code",
   "execution_count": 3,
   "id": "088b4b94",
   "metadata": {},
   "outputs": [
    {
     "data": {
      "text/html": [
       "<div>\n",
       "<style scoped>\n",
       "    .dataframe tbody tr th:only-of-type {\n",
       "        vertical-align: middle;\n",
       "    }\n",
       "\n",
       "    .dataframe tbody tr th {\n",
       "        vertical-align: top;\n",
       "    }\n",
       "\n",
       "    .dataframe thead th {\n",
       "        text-align: right;\n",
       "    }\n",
       "</style>\n",
       "<table border=\"1\" class=\"dataframe\">\n",
       "  <thead>\n",
       "    <tr style=\"text-align: right;\">\n",
       "      <th></th>\n",
       "      <th>material_id</th>\n",
       "      <th>pretty_formula</th>\n",
       "      <th>elements</th>\n",
       "      <th>formula</th>\n",
       "      <th>cif</th>\n",
       "    </tr>\n",
       "  </thead>\n",
       "  <tbody>\n",
       "    <tr>\n",
       "      <th>0</th>\n",
       "      <td>mp-1001784</td>\n",
       "      <td>LiTiS2</td>\n",
       "      <td>['Li', 'Ti', 'S']</td>\n",
       "      <td>{'Li': 1.0, 'Ti': 1.0, 'S': 2.0}</td>\n",
       "      <td># generated using pymatgen\\ndata_LiTiS2\\n_symm...</td>\n",
       "    </tr>\n",
       "    <tr>\n",
       "      <th>1</th>\n",
       "      <td>mp-1014462</td>\n",
       "      <td>Li2YAl</td>\n",
       "      <td>['Li', 'Y', 'Al']</td>\n",
       "      <td>{'Li': 2.0, 'Y': 1.0, 'Al': 1.0}</td>\n",
       "      <td># generated using pymatgen\\ndata_Li2YAl\\n_symm...</td>\n",
       "    </tr>\n",
       "    <tr>\n",
       "      <th>2</th>\n",
       "      <td>mp-1015061</td>\n",
       "      <td>NaLi2Sn</td>\n",
       "      <td>['Li', 'Na', 'Sn']</td>\n",
       "      <td>{'Na': 1.0, 'Li': 2.0, 'Sn': 1.0}</td>\n",
       "      <td># generated using pymatgen\\ndata_NaLi2Sn\\n_sym...</td>\n",
       "    </tr>\n",
       "    <tr>\n",
       "      <th>3</th>\n",
       "      <td>mp-1018764</td>\n",
       "      <td>Li3HoSb2</td>\n",
       "      <td>['Li', 'Ho', 'Sb']</td>\n",
       "      <td>{'Li': 3.0, 'Ho': 1.0, 'Sb': 2.0}</td>\n",
       "      <td># generated using pymatgen\\ndata_Li3HoSb2\\n_sy...</td>\n",
       "    </tr>\n",
       "    <tr>\n",
       "      <th>4</th>\n",
       "      <td>mp-1025496</td>\n",
       "      <td>LiNbSe2</td>\n",
       "      <td>['Li', 'Nb', 'Se']</td>\n",
       "      <td>{'Li': 1.0, 'Nb': 1.0, 'Se': 2.0}</td>\n",
       "      <td># generated using pymatgen\\ndata_LiNbSe2\\n_sym...</td>\n",
       "    </tr>\n",
       "    <tr>\n",
       "      <th>5</th>\n",
       "      <td>mp-1029331</td>\n",
       "      <td>LiHf2N3</td>\n",
       "      <td>['Hf', 'Li', 'N']</td>\n",
       "      <td>{'Li': 1.0, 'Hf': 2.0, 'N': 3.0}</td>\n",
       "      <td># generated using pymatgen\\ndata_LiHf2N3\\n_sym...</td>\n",
       "    </tr>\n",
       "    <tr>\n",
       "      <th>6</th>\n",
       "      <td>mp-1029395</td>\n",
       "      <td>LiCrN2</td>\n",
       "      <td>['Li', 'Cr', 'N']</td>\n",
       "      <td>{'Li': 1.0, 'Cr': 1.0, 'N': 2.0}</td>\n",
       "      <td># generated using pymatgen\\ndata_LiCrN2\\n_symm...</td>\n",
       "    </tr>\n",
       "    <tr>\n",
       "      <th>7</th>\n",
       "      <td>mp-10616</td>\n",
       "      <td>BaLiAs</td>\n",
       "      <td>['Ba', 'Li', 'As']</td>\n",
       "      <td>{'Ba': 1.0, 'Li': 1.0, 'As': 1.0}</td>\n",
       "      <td># generated using pymatgen\\ndata_BaLiAs\\n_symm...</td>\n",
       "    </tr>\n",
       "    <tr>\n",
       "      <th>8</th>\n",
       "      <td>mp-10686</td>\n",
       "      <td>Li2CdGe</td>\n",
       "      <td>['Li', 'Cd', 'Ge']</td>\n",
       "      <td>{'Li': 2.0, 'Cd': 1.0, 'Ge': 1.0}</td>\n",
       "      <td># generated using pymatgen\\ndata_Li2CdGe\\n_sym...</td>\n",
       "    </tr>\n",
       "    <tr>\n",
       "      <th>9</th>\n",
       "      <td>mp-10687</td>\n",
       "      <td>LiCdP</td>\n",
       "      <td>['Li', 'Cd', 'P']</td>\n",
       "      <td>{'Li': 1.0, 'Cd': 1.0, 'P': 1.0}</td>\n",
       "      <td># generated using pymatgen\\ndata_LiCdP\\n_symme...</td>\n",
       "    </tr>\n",
       "  </tbody>\n",
       "</table>\n",
       "</div>"
      ],
      "text/plain": [
       "  material_id pretty_formula            elements  \\\n",
       "0  mp-1001784         LiTiS2   ['Li', 'Ti', 'S']   \n",
       "1  mp-1014462         Li2YAl   ['Li', 'Y', 'Al']   \n",
       "2  mp-1015061        NaLi2Sn  ['Li', 'Na', 'Sn']   \n",
       "3  mp-1018764       Li3HoSb2  ['Li', 'Ho', 'Sb']   \n",
       "4  mp-1025496        LiNbSe2  ['Li', 'Nb', 'Se']   \n",
       "5  mp-1029331        LiHf2N3   ['Hf', 'Li', 'N']   \n",
       "6  mp-1029395         LiCrN2   ['Li', 'Cr', 'N']   \n",
       "7    mp-10616         BaLiAs  ['Ba', 'Li', 'As']   \n",
       "8    mp-10686        Li2CdGe  ['Li', 'Cd', 'Ge']   \n",
       "9    mp-10687          LiCdP   ['Li', 'Cd', 'P']   \n",
       "\n",
       "                             formula  \\\n",
       "0   {'Li': 1.0, 'Ti': 1.0, 'S': 2.0}   \n",
       "1   {'Li': 2.0, 'Y': 1.0, 'Al': 1.0}   \n",
       "2  {'Na': 1.0, 'Li': 2.0, 'Sn': 1.0}   \n",
       "3  {'Li': 3.0, 'Ho': 1.0, 'Sb': 2.0}   \n",
       "4  {'Li': 1.0, 'Nb': 1.0, 'Se': 2.0}   \n",
       "5   {'Li': 1.0, 'Hf': 2.0, 'N': 3.0}   \n",
       "6   {'Li': 1.0, 'Cr': 1.0, 'N': 2.0}   \n",
       "7  {'Ba': 1.0, 'Li': 1.0, 'As': 1.0}   \n",
       "8  {'Li': 2.0, 'Cd': 1.0, 'Ge': 1.0}   \n",
       "9   {'Li': 1.0, 'Cd': 1.0, 'P': 1.0}   \n",
       "\n",
       "                                                 cif  \n",
       "0  # generated using pymatgen\\ndata_LiTiS2\\n_symm...  \n",
       "1  # generated using pymatgen\\ndata_Li2YAl\\n_symm...  \n",
       "2  # generated using pymatgen\\ndata_NaLi2Sn\\n_sym...  \n",
       "3  # generated using pymatgen\\ndata_Li3HoSb2\\n_sy...  \n",
       "4  # generated using pymatgen\\ndata_LiNbSe2\\n_sym...  \n",
       "5  # generated using pymatgen\\ndata_LiHf2N3\\n_sym...  \n",
       "6  # generated using pymatgen\\ndata_LiCrN2\\n_symm...  \n",
       "7  # generated using pymatgen\\ndata_BaLiAs\\n_symm...  \n",
       "8  # generated using pymatgen\\ndata_Li2CdGe\\n_sym...  \n",
       "9  # generated using pymatgen\\ndata_LiCdP\\n_symme...  "
      ]
     },
     "execution_count": 3,
     "metadata": {},
     "output_type": "execute_result"
    }
   ],
   "source": [
    "df = pd.read_csv('./data/01_1_all_Li_material_from_MP.csv')[:10]\n",
    "df"
   ]
  },
  {
   "cell_type": "code",
   "execution_count": 4,
   "id": "077374ac",
   "metadata": {
    "tags": []
   },
   "outputs": [
    {
     "data": {
      "application/vnd.jupyter.widget-view+json": {
       "model_id": "4881a19e28b8477a8575a4a2a1c16f49",
       "version_major": 2,
       "version_minor": 0
      },
      "text/plain": [
       "  0%|          | 0/10 [00:00<?, ?it/s]"
      ]
     },
     "metadata": {},
     "output_type": "display_data"
    }
   ],
   "source": [
    "for i in tqdm(range(len(df))): \n",
    "    formula_dict = literal_eval(df.iloc[i]['formula'])\n",
    "    df.iloc[i]['formula'] = (list(formula_dict.keys())+list(formula_dict.values()))"
   ]
  },
  {
   "cell_type": "markdown",
   "id": "f706bb65",
   "metadata": {},
   "source": [
    "## Selected element for structure generation"
   ]
  },
  {
   "cell_type": "code",
   "execution_count": 5,
   "id": "610ffe08",
   "metadata": {},
   "outputs": [],
   "source": [
    "sub_el_list = ['Li','B','C','N','O','F','Na','Mg','Al','Si','P','S',\n",
    "               'Cl','Ca','Zn','Ga','Ge','As','Se','Sr','Cd','In',\n",
    "               'Sn','Te','I','Ba','Hg','Pb'] "
   ]
  },
  {
   "cell_type": "markdown",
   "id": "aaec844f",
   "metadata": {},
   "source": [
    "## Elemental substitution"
   ]
  },
  {
   "cell_type": "code",
   "execution_count": 6,
   "id": "43a258b6",
   "metadata": {
    "scrolled": true,
    "tags": []
   },
   "outputs": [
    {
     "data": {
      "application/vnd.jupyter.widget-view+json": {
       "model_id": "2ac5f09fd34649d1930d79f4b94bb3e2",
       "version_major": 2,
       "version_minor": 0
      },
      "text/plain": [
       "  0%|          | 0/10 [00:00<?, ?it/s]"
      ]
     },
     "metadata": {},
     "output_type": "display_data"
    }
   ],
   "source": [
    "substituted_list=substitution(df,sub_el_list)"
   ]
  },
  {
   "cell_type": "code",
   "execution_count": 7,
   "id": "8fcdd715",
   "metadata": {
    "scrolled": true,
    "tags": []
   },
   "outputs": [
    {
     "data": {
      "application/vnd.jupyter.widget-view+json": {
       "model_id": "1594c795163a458aa0bc682eab0876f8",
       "version_major": 2,
       "version_minor": 0
      },
      "text/plain": [
       "  0%|          | 0/560 [00:00<?, ?it/s]"
      ]
     },
     "metadata": {},
     "output_type": "display_data"
    },
    {
     "data": {
      "text/html": [
       "<div>\n",
       "<style scoped>\n",
       "    .dataframe tbody tr th:only-of-type {\n",
       "        vertical-align: middle;\n",
       "    }\n",
       "\n",
       "    .dataframe tbody tr th {\n",
       "        vertical-align: top;\n",
       "    }\n",
       "\n",
       "    .dataframe thead th {\n",
       "        text-align: right;\n",
       "    }\n",
       "</style>\n",
       "<table border=\"1\" class=\"dataframe\">\n",
       "  <thead>\n",
       "    <tr style=\"text-align: right;\">\n",
       "      <th></th>\n",
       "      <th>sub_comp</th>\n",
       "      <th>mpid</th>\n",
       "      <th>reduced_formula</th>\n",
       "    </tr>\n",
       "  </thead>\n",
       "  <tbody>\n",
       "    <tr>\n",
       "      <th>0</th>\n",
       "      <td>[Li, S, Li, 1.0, 1.0, 2.0]</td>\n",
       "      <td>mp-1001784</td>\n",
       "      <td>Li3S</td>\n",
       "    </tr>\n",
       "    <tr>\n",
       "      <th>1</th>\n",
       "      <td>[Li, S, B, 1.0, 1.0, 2.0]</td>\n",
       "      <td>mp-1001784</td>\n",
       "      <td>LiB2S</td>\n",
       "    </tr>\n",
       "    <tr>\n",
       "      <th>2</th>\n",
       "      <td>[Li, S, C, 1.0, 1.0, 2.0]</td>\n",
       "      <td>mp-1001784</td>\n",
       "      <td>LiC2S</td>\n",
       "    </tr>\n",
       "    <tr>\n",
       "      <th>3</th>\n",
       "      <td>[Li, S, N, 1.0, 1.0, 2.0]</td>\n",
       "      <td>mp-1001784</td>\n",
       "      <td>LiSN2</td>\n",
       "    </tr>\n",
       "    <tr>\n",
       "      <th>4</th>\n",
       "      <td>[Li, S, O, 1.0, 1.0, 2.0]</td>\n",
       "      <td>mp-1001784</td>\n",
       "      <td>LiSO2</td>\n",
       "    </tr>\n",
       "    <tr>\n",
       "      <th>...</th>\n",
       "      <td>...</td>\n",
       "      <td>...</td>\n",
       "      <td>...</td>\n",
       "    </tr>\n",
       "    <tr>\n",
       "      <th>555</th>\n",
       "      <td>[Li, Te, S, 1.0, 1.0, 1.0]</td>\n",
       "      <td>mp-10687</td>\n",
       "      <td>LiTeS</td>\n",
       "    </tr>\n",
       "    <tr>\n",
       "      <th>556</th>\n",
       "      <td>[Li, I, S, 1.0, 1.0, 1.0]</td>\n",
       "      <td>mp-10687</td>\n",
       "      <td>LiSI</td>\n",
       "    </tr>\n",
       "    <tr>\n",
       "      <th>557</th>\n",
       "      <td>[Li, Ba, S, 1.0, 1.0, 1.0]</td>\n",
       "      <td>mp-10687</td>\n",
       "      <td>BaLiS</td>\n",
       "    </tr>\n",
       "    <tr>\n",
       "      <th>558</th>\n",
       "      <td>[Li, Hg, S, 1.0, 1.0, 1.0]</td>\n",
       "      <td>mp-10687</td>\n",
       "      <td>LiHgS</td>\n",
       "    </tr>\n",
       "    <tr>\n",
       "      <th>559</th>\n",
       "      <td>[Li, Pb, S, 1.0, 1.0, 1.0]</td>\n",
       "      <td>mp-10687</td>\n",
       "      <td>LiPbS</td>\n",
       "    </tr>\n",
       "  </tbody>\n",
       "</table>\n",
       "<p>560 rows × 3 columns</p>\n",
       "</div>"
      ],
      "text/plain": [
       "                       sub_comp        mpid reduced_formula\n",
       "0    [Li, S, Li, 1.0, 1.0, 2.0]  mp-1001784            Li3S\n",
       "1     [Li, S, B, 1.0, 1.0, 2.0]  mp-1001784           LiB2S\n",
       "2     [Li, S, C, 1.0, 1.0, 2.0]  mp-1001784           LiC2S\n",
       "3     [Li, S, N, 1.0, 1.0, 2.0]  mp-1001784           LiSN2\n",
       "4     [Li, S, O, 1.0, 1.0, 2.0]  mp-1001784           LiSO2\n",
       "..                          ...         ...             ...\n",
       "555  [Li, Te, S, 1.0, 1.0, 1.0]    mp-10687           LiTeS\n",
       "556   [Li, I, S, 1.0, 1.0, 1.0]    mp-10687            LiSI\n",
       "557  [Li, Ba, S, 1.0, 1.0, 1.0]    mp-10687           BaLiS\n",
       "558  [Li, Hg, S, 1.0, 1.0, 1.0]    mp-10687           LiHgS\n",
       "559  [Li, Pb, S, 1.0, 1.0, 1.0]    mp-10687           LiPbS\n",
       "\n",
       "[560 rows x 3 columns]"
      ]
     },
     "execution_count": 7,
     "metadata": {},
     "output_type": "execute_result"
    }
   ],
   "source": [
    "subcomp_mpid_df = pd.DataFrame()\n",
    "sub_comp_list = []\n",
    "mpid_list = []\n",
    "reduced_form_list = []\n",
    "element = []\n",
    "for i in tqdm(substituted_list):\n",
    "    my_comp_list=i[:-1]\n",
    "    mpid=i[-1]\n",
    "    reduced_form=Composition(comp_to_form(my_comp_list)).reduced_formula\n",
    "    \n",
    "    sub_comp_list.append(my_comp_list)\n",
    "    mpid_list.append(mpid)\n",
    "    reduced_form_list.append(reduced_form)\n",
    "subcomp_mpid_df['sub_comp'] = sub_comp_list\n",
    "subcomp_mpid_df['mpid'] = mpid_list\n",
    "subcomp_mpid_df['reduced_formula'] = reduced_form_list\n",
    "subcomp_mpid_df"
   ]
  },
  {
   "cell_type": "code",
   "execution_count": 8,
   "id": "3d3db4b6",
   "metadata": {},
   "outputs": [
    {
     "data": {
      "text/html": [
       "<div>\n",
       "<style scoped>\n",
       "    .dataframe tbody tr th:only-of-type {\n",
       "        vertical-align: middle;\n",
       "    }\n",
       "\n",
       "    .dataframe tbody tr th {\n",
       "        vertical-align: top;\n",
       "    }\n",
       "\n",
       "    .dataframe thead th {\n",
       "        text-align: right;\n",
       "    }\n",
       "</style>\n",
       "<table border=\"1\" class=\"dataframe\">\n",
       "  <thead>\n",
       "    <tr style=\"text-align: right;\">\n",
       "      <th></th>\n",
       "      <th>sub_comp</th>\n",
       "      <th>mpid</th>\n",
       "      <th>reduced_formula</th>\n",
       "    </tr>\n",
       "  </thead>\n",
       "  <tbody>\n",
       "    <tr>\n",
       "      <th>0</th>\n",
       "      <td>['Li', 'S', 'Li', 1.0, 1.0, 2.0]</td>\n",
       "      <td>mp-1001784</td>\n",
       "      <td>Li3S</td>\n",
       "    </tr>\n",
       "    <tr>\n",
       "      <th>1</th>\n",
       "      <td>['Li', 'S', 'B', 1.0, 1.0, 2.0]</td>\n",
       "      <td>mp-1001784</td>\n",
       "      <td>LiB2S</td>\n",
       "    </tr>\n",
       "    <tr>\n",
       "      <th>2</th>\n",
       "      <td>['Li', 'S', 'C', 1.0, 1.0, 2.0]</td>\n",
       "      <td>mp-1001784</td>\n",
       "      <td>LiC2S</td>\n",
       "    </tr>\n",
       "    <tr>\n",
       "      <th>3</th>\n",
       "      <td>['Li', 'S', 'N', 1.0, 1.0, 2.0]</td>\n",
       "      <td>mp-1001784</td>\n",
       "      <td>LiSN2</td>\n",
       "    </tr>\n",
       "    <tr>\n",
       "      <th>4</th>\n",
       "      <td>['Li', 'S', 'O', 1.0, 1.0, 2.0]</td>\n",
       "      <td>mp-1001784</td>\n",
       "      <td>LiSO2</td>\n",
       "    </tr>\n",
       "    <tr>\n",
       "      <th>...</th>\n",
       "      <td>...</td>\n",
       "      <td>...</td>\n",
       "      <td>...</td>\n",
       "    </tr>\n",
       "    <tr>\n",
       "      <th>555</th>\n",
       "      <td>['Li', 'Te', 'S', 1.0, 1.0, 1.0]</td>\n",
       "      <td>mp-10687</td>\n",
       "      <td>LiTeS</td>\n",
       "    </tr>\n",
       "    <tr>\n",
       "      <th>556</th>\n",
       "      <td>['Li', 'I', 'S', 1.0, 1.0, 1.0]</td>\n",
       "      <td>mp-10687</td>\n",
       "      <td>LiSI</td>\n",
       "    </tr>\n",
       "    <tr>\n",
       "      <th>557</th>\n",
       "      <td>['Li', 'Ba', 'S', 1.0, 1.0, 1.0]</td>\n",
       "      <td>mp-10687</td>\n",
       "      <td>BaLiS</td>\n",
       "    </tr>\n",
       "    <tr>\n",
       "      <th>558</th>\n",
       "      <td>['Li', 'Hg', 'S', 1.0, 1.0, 1.0]</td>\n",
       "      <td>mp-10687</td>\n",
       "      <td>LiHgS</td>\n",
       "    </tr>\n",
       "    <tr>\n",
       "      <th>559</th>\n",
       "      <td>['Li', 'Pb', 'S', 1.0, 1.0, 1.0]</td>\n",
       "      <td>mp-10687</td>\n",
       "      <td>LiPbS</td>\n",
       "    </tr>\n",
       "  </tbody>\n",
       "</table>\n",
       "<p>560 rows × 3 columns</p>\n",
       "</div>"
      ],
      "text/plain": [
       "                             sub_comp        mpid reduced_formula\n",
       "0    ['Li', 'S', 'Li', 1.0, 1.0, 2.0]  mp-1001784            Li3S\n",
       "1     ['Li', 'S', 'B', 1.0, 1.0, 2.0]  mp-1001784           LiB2S\n",
       "2     ['Li', 'S', 'C', 1.0, 1.0, 2.0]  mp-1001784           LiC2S\n",
       "3     ['Li', 'S', 'N', 1.0, 1.0, 2.0]  mp-1001784           LiSN2\n",
       "4     ['Li', 'S', 'O', 1.0, 1.0, 2.0]  mp-1001784           LiSO2\n",
       "..                                ...         ...             ...\n",
       "555  ['Li', 'Te', 'S', 1.0, 1.0, 1.0]    mp-10687           LiTeS\n",
       "556   ['Li', 'I', 'S', 1.0, 1.0, 1.0]    mp-10687            LiSI\n",
       "557  ['Li', 'Ba', 'S', 1.0, 1.0, 1.0]    mp-10687           BaLiS\n",
       "558  ['Li', 'Hg', 'S', 1.0, 1.0, 1.0]    mp-10687           LiHgS\n",
       "559  ['Li', 'Pb', 'S', 1.0, 1.0, 1.0]    mp-10687           LiPbS\n",
       "\n",
       "[560 rows x 3 columns]"
      ]
     },
     "execution_count": 8,
     "metadata": {},
     "output_type": "execute_result"
    }
   ],
   "source": [
    "subcomp_mpid_df.to_csv('./data/01_2_substitution_final.csv',index=False)\n",
    "subcomp_mpid_df = pd.read_csv('./data/01_2_substitution_final.csv')\n",
    "subcomp_mpid_df"
   ]
  }
 ],
 "metadata": {
  "kernelspec": {
   "display_name": "Python 3 (ipykernel)",
   "language": "python",
   "name": "python3"
  },
  "language_info": {
   "codemirror_mode": {
    "name": "ipython",
    "version": 3
   },
   "file_extension": ".py",
   "mimetype": "text/x-python",
   "name": "python",
   "nbconvert_exporter": "python",
   "pygments_lexer": "ipython3",
   "version": "3.8.5"
  }
 },
 "nbformat": 4,
 "nbformat_minor": 5
}
