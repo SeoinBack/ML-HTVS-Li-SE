{
 "cells": [
  {
   "cell_type": "code",
   "execution_count": 2,
   "id": "ad40b44b",
   "metadata": {},
   "outputs": [
    {
     "data": {
      "text/plain": [
       "'2022.0.16'"
      ]
     },
     "execution_count": 2,
     "metadata": {},
     "output_type": "execute_result"
    }
   ],
   "source": [
    "from pymatgen.core import Composition, Element, Structure\n",
    "from pymatgen.ext.matproj import MPRester\n",
    "import pymatgen.core as mg\n",
    "\n",
    "import re\n",
    "import pprint\n",
    "import pickle\n",
    "import pandas as pd\n",
    "from tqdm.auto import tqdm\n",
    "tqdm.pandas\n",
    "from ast import literal_eval\n",
    "\n",
    "import multiprocessing as multi\n",
    "from joblib import Memory\n",
    "import pickle\n",
    "\n",
    "import parmap\n",
    "\n",
    "mpr = MPRester('WgPaLVntnoS3X3tdlT')\n",
    "mg.__version__"
   ]
  },
  {
   "cell_type": "markdown",
   "id": "47f118e6",
   "metadata": {},
   "source": [
    "# MP에서 Li 포함 3원소 4원소 모든 물질 query"
   ]
  },
  {
   "cell_type": "code",
   "execution_count": null,
   "id": "578f3e5a",
   "metadata": {},
   "outputs": [],
   "source": [
    "data = mpr.query({\"elements\":'Li','nelements':{ \"$gte\" : 3 , \"$lte\" : 4}}, properties=['material_id',\"pretty_formula\",'elements','formula','cif'])\n",
    "# MP 에서 원하는 데이터 가져옴\n",
    "df = pd.DataFrame(data)\n",
    "df.to_csv('./new_order_data/01_1_all_Li_material_from_MP.csv',index=False)"
   ]
  },
  {
   "cell_type": "code",
   "execution_count": 3,
   "id": "ca65aa44",
   "metadata": {},
   "outputs": [],
   "source": [
    "df = pd.read_csv('../new_order_data/01_1_all_Li_material_from_MP.csv')[:10]"
   ]
  },
  {
   "cell_type": "code",
   "execution_count": 4,
   "id": "7febc57c",
   "metadata": {},
   "outputs": [
    {
     "data": {
      "text/html": [
       "<div>\n",
       "<style scoped>\n",
       "    .dataframe tbody tr th:only-of-type {\n",
       "        vertical-align: middle;\n",
       "    }\n",
       "\n",
       "    .dataframe tbody tr th {\n",
       "        vertical-align: top;\n",
       "    }\n",
       "\n",
       "    .dataframe thead th {\n",
       "        text-align: right;\n",
       "    }\n",
       "</style>\n",
       "<table border=\"1\" class=\"dataframe\">\n",
       "  <thead>\n",
       "    <tr style=\"text-align: right;\">\n",
       "      <th></th>\n",
       "      <th>material_id</th>\n",
       "      <th>pretty_formula</th>\n",
       "      <th>elements</th>\n",
       "      <th>formula</th>\n",
       "      <th>cif</th>\n",
       "    </tr>\n",
       "  </thead>\n",
       "  <tbody>\n",
       "    <tr>\n",
       "      <th>0</th>\n",
       "      <td>mp-1096051</td>\n",
       "      <td>LiCd2Cu</td>\n",
       "      <td>['Cd', 'Cu', 'Li']</td>\n",
       "      <td>{'Li': 1.0, 'Cd': 2.0, 'Cu': 1.0}</td>\n",
       "      <td># generated using pymatgen\\ndata_LiCd2Cu\\n_sym...</td>\n",
       "    </tr>\n",
       "    <tr>\n",
       "      <th>1</th>\n",
       "      <td>mp-1097065</td>\n",
       "      <td>Li2HfN2</td>\n",
       "      <td>['Hf', 'Li', 'N']</td>\n",
       "      <td>{'Li': 2.0, 'Hf': 1.0, 'N': 2.0}</td>\n",
       "      <td># generated using pymatgen\\ndata_Li2HfN2\\n_sym...</td>\n",
       "    </tr>\n",
       "    <tr>\n",
       "      <th>2</th>\n",
       "      <td>mp-1176979</td>\n",
       "      <td>Li6FeS4</td>\n",
       "      <td>['Fe', 'Li', 'S']</td>\n",
       "      <td>{'Li': 6.0, 'Fe': 1.0, 'S': 4.0}</td>\n",
       "      <td># generated using pymatgen\\ndata_Li6FeS4\\n_sym...</td>\n",
       "    </tr>\n",
       "    <tr>\n",
       "      <th>3</th>\n",
       "      <td>mp-1187090</td>\n",
       "      <td>Sr2LiRh</td>\n",
       "      <td>['Li', 'Rh', 'Sr']</td>\n",
       "      <td>{'Sr': 2.0, 'Li': 1.0, 'Rh': 1.0}</td>\n",
       "      <td># generated using pymatgen\\ndata_Sr2LiRh\\n_sym...</td>\n",
       "    </tr>\n",
       "    <tr>\n",
       "      <th>4</th>\n",
       "      <td>mp-1197196</td>\n",
       "      <td>Li2Mo15Se19</td>\n",
       "      <td>['Li', 'Mo', 'Se']</td>\n",
       "      <td>{'Li': 2.0, 'Mo': 15.0, 'Se': 19.0}</td>\n",
       "      <td># generated using pymatgen\\ndata_Li2Mo15Se19\\n...</td>\n",
       "    </tr>\n",
       "    <tr>\n",
       "      <th>5</th>\n",
       "      <td>mp-1223047</td>\n",
       "      <td>Li2UBr6</td>\n",
       "      <td>['Br', 'Li', 'U']</td>\n",
       "      <td>{'Li': 2.0, 'U': 1.0, 'Br': 6.0}</td>\n",
       "      <td># generated using pymatgen\\ndata_Li2UBr6\\n_sym...</td>\n",
       "    </tr>\n",
       "    <tr>\n",
       "      <th>6</th>\n",
       "      <td>mp-1246806</td>\n",
       "      <td>Li17Cl5O6</td>\n",
       "      <td>['Cl', 'Li', 'O']</td>\n",
       "      <td>{'Li': 17.0, 'Cl': 5.0, 'O': 6.0}</td>\n",
       "      <td># generated using pymatgen\\ndata_Li17Cl5O6\\n_s...</td>\n",
       "    </tr>\n",
       "    <tr>\n",
       "      <th>7</th>\n",
       "      <td>mp-15788</td>\n",
       "      <td>LiYS2</td>\n",
       "      <td>['Li', 'Y', 'S']</td>\n",
       "      <td>{'Li': 1.0, 'Y': 1.0, 'S': 2.0}</td>\n",
       "      <td># generated using pymatgen\\ndata_LiYS2\\n_symme...</td>\n",
       "    </tr>\n",
       "    <tr>\n",
       "      <th>8</th>\n",
       "      <td>mp-19013</td>\n",
       "      <td>LiV2O5</td>\n",
       "      <td>['Li', 'O', 'V']</td>\n",
       "      <td>{'Li': 1.0, 'O': 5.0, 'V': 2.0}</td>\n",
       "      <td># generated using pymatgen\\ndata_LiV2O5\\n_symm...</td>\n",
       "    </tr>\n",
       "    <tr>\n",
       "      <th>9</th>\n",
       "      <td>mp-754811</td>\n",
       "      <td>Li3Mn5O8</td>\n",
       "      <td>['Li', 'Mn', 'O']</td>\n",
       "      <td>{'Li': 3.0, 'Mn': 5.0, 'O': 8.0}</td>\n",
       "      <td># generated using pymatgen\\ndata_Li3Mn5O8\\n_sy...</td>\n",
       "    </tr>\n",
       "  </tbody>\n",
       "</table>\n",
       "</div>"
      ],
      "text/plain": [
       "  material_id pretty_formula            elements  \\\n",
       "0  mp-1096051        LiCd2Cu  ['Cd', 'Cu', 'Li']   \n",
       "1  mp-1097065        Li2HfN2   ['Hf', 'Li', 'N']   \n",
       "2  mp-1176979        Li6FeS4   ['Fe', 'Li', 'S']   \n",
       "3  mp-1187090        Sr2LiRh  ['Li', 'Rh', 'Sr']   \n",
       "4  mp-1197196    Li2Mo15Se19  ['Li', 'Mo', 'Se']   \n",
       "5  mp-1223047        Li2UBr6   ['Br', 'Li', 'U']   \n",
       "6  mp-1246806      Li17Cl5O6   ['Cl', 'Li', 'O']   \n",
       "7    mp-15788          LiYS2    ['Li', 'Y', 'S']   \n",
       "8    mp-19013         LiV2O5    ['Li', 'O', 'V']   \n",
       "9   mp-754811       Li3Mn5O8   ['Li', 'Mn', 'O']   \n",
       "\n",
       "                               formula  \\\n",
       "0    {'Li': 1.0, 'Cd': 2.0, 'Cu': 1.0}   \n",
       "1     {'Li': 2.0, 'Hf': 1.0, 'N': 2.0}   \n",
       "2     {'Li': 6.0, 'Fe': 1.0, 'S': 4.0}   \n",
       "3    {'Sr': 2.0, 'Li': 1.0, 'Rh': 1.0}   \n",
       "4  {'Li': 2.0, 'Mo': 15.0, 'Se': 19.0}   \n",
       "5     {'Li': 2.0, 'U': 1.0, 'Br': 6.0}   \n",
       "6    {'Li': 17.0, 'Cl': 5.0, 'O': 6.0}   \n",
       "7      {'Li': 1.0, 'Y': 1.0, 'S': 2.0}   \n",
       "8      {'Li': 1.0, 'O': 5.0, 'V': 2.0}   \n",
       "9     {'Li': 3.0, 'Mn': 5.0, 'O': 8.0}   \n",
       "\n",
       "                                                 cif  \n",
       "0  # generated using pymatgen\\ndata_LiCd2Cu\\n_sym...  \n",
       "1  # generated using pymatgen\\ndata_Li2HfN2\\n_sym...  \n",
       "2  # generated using pymatgen\\ndata_Li6FeS4\\n_sym...  \n",
       "3  # generated using pymatgen\\ndata_Sr2LiRh\\n_sym...  \n",
       "4  # generated using pymatgen\\ndata_Li2Mo15Se19\\n...  \n",
       "5  # generated using pymatgen\\ndata_Li2UBr6\\n_sym...  \n",
       "6  # generated using pymatgen\\ndata_Li17Cl5O6\\n_s...  \n",
       "7  # generated using pymatgen\\ndata_LiYS2\\n_symme...  \n",
       "8  # generated using pymatgen\\ndata_LiV2O5\\n_symm...  \n",
       "9  # generated using pymatgen\\ndata_Li3Mn5O8\\n_sy...  "
      ]
     },
     "execution_count": 4,
     "metadata": {},
     "output_type": "execute_result"
    }
   ],
   "source": [
    "df"
   ]
  },
  {
   "cell_type": "markdown",
   "id": "42e0c7bc",
   "metadata": {},
   "source": [
    "## formula 형태 변환 ( dict --> list )"
   ]
  },
  {
   "cell_type": "code",
   "execution_count": 5,
   "id": "352ba811",
   "metadata": {
    "tags": []
   },
   "outputs": [
    {
     "data": {
      "application/vnd.jupyter.widget-view+json": {
       "model_id": "e0581bafd3124e29876fa069cba579c7",
       "version_major": 2,
       "version_minor": 0
      },
      "text/plain": [
       "  0%|          | 0/10 [00:00<?, ?it/s]"
      ]
     },
     "metadata": {},
     "output_type": "display_data"
    }
   ],
   "source": [
    "for i in tqdm(range(len(df))): \n",
    "    formula_dict = literal_eval(df.iloc[i]['formula'])\n",
    "    df.iloc[i]['formula'] = (list(formula_dict.keys())+list(formula_dict.values()))"
   ]
  },
  {
   "cell_type": "markdown",
   "id": "0d0a18d6",
   "metadata": {},
   "source": [
    "## 치환에 포함할 원소 list ( HHI < 6000 ), O 제외 Li & S 포함 총 27가지"
   ]
  },
  {
   "cell_type": "code",
   "execution_count": 6,
   "id": "804bd257",
   "metadata": {},
   "outputs": [],
   "source": [
    "sub_el_list = ['Li','B','C','N','O','F','Na','Mg','Al','Si','P','S',\n",
    "               'Cl','Ca','Zn','Ga','Ge','As','Se','Sr','Cd','In',\n",
    "               'Sn','Te','I','Ba','Hg','Pb'] # 치환할 27개 원소"
   ]
  },
  {
   "cell_type": "raw",
   "id": "986f6c9b",
   "metadata": {
    "jupyter": {
     "source_hidden": true
    },
    "tags": []
   },
   "source": [
    "def substitution(splited_formula_list, mpid, target_index=0, count=0, sub_list=[]): # splited_formula_list -> e.g. ['Li', 'Ti', 'Ge', 'O', 3.0, 2.0, 3.0, 12.0]\n",
    "    c = count\n",
    "    t = target_index\n",
    "    sl = sub_list\n",
    "    num_el = len(splited_formula_list)/2 # elements 종류 갯수 e.g. 4\n",
    "#     elements_list = splited_formula_list[:num_el] # element 종류 list (순서 중요) e.g. ['Li', 'Ti', 'Ge', 'O']\n",
    "    temp_list = splited_formula_list[:]\n",
    "    \n",
    "    for i in range(num_el):\n",
    "        if not temp_list[t]=='Li':\n",
    "            temp_list[t] = 'S'\n",
    "            for s in sub_el_list:\n",
    "                temp_list[t] = s\n",
    "                t += 1\n",
    "                sl.append(temp_list+[mpid])\n",
    "            \n",
    "    if not temp_list[t]=='Li':\n",
    "        if c == 0:\n",
    "            temp_list[t] = \"S\"\n",
    "            c=1\n",
    "            t+=1\n",
    "\n",
    "        for s in sub_el_list:\n",
    "            \n",
    "            temp_list[t] = s\n",
    "            t += 1\n",
    "            sl.append(temp_list+[mpid])\n",
    "            if t < int(num_el):\n",
    "                sl.append(substitution(splited_formula_list=temp_list,mpid=mpid,target_index=t, count=c, sub_list=sl))\n",
    "         \n",
    "    \n",
    "#    if not t == int(num_el):\n",
    "#        c += 1\n",
    "#        t += 1\n",
    "#        sl=(substitution(splited_formula_list=temp_list,mpid=mpid,target_index=t, count=c, sub_list=sl))\n",
    "        \n",
    "#    else:\n",
    "#        sl.append(temp_list+[mpid])\n",
    "    return sl"
   ]
  },
  {
   "cell_type": "markdown",
   "id": "5073cdc7",
   "metadata": {},
   "source": [
    "## 원소 치환"
   ]
  },
  {
   "cell_type": "code",
   "execution_count": 7,
   "id": "b3231765",
   "metadata": {},
   "outputs": [],
   "source": [
    "def substitution(df,sub_elements):\n",
    "    substituted_list = []\n",
    "    for j in tqdm(range(len(df))):\n",
    "        temp_list = df['formula'][j]\n",
    "        temp_range = list(range(int(len(temp_list)/2))) \n",
    "        del temp_range[temp_list.index('Li')] # Li 가 아닌 element 의 index 선정 ex) ['Li', 'Cd', 'Cu', 1.0, 2.0, 1.0] -> [1, 2]\n",
    "        \n",
    "        for i in temp_range:\n",
    "            temp_range2 = temp_range[:]\n",
    "            temp_list2 = temp_list[:]\n",
    "            temp_list2[i]= 'S'\n",
    "            temp_range2.remove(i) # S 로 먼저 하나 치환, 치환한 index 제외\n",
    "            for k in temp_range2:\n",
    "                temp_list3 = temp_list2[:]\n",
    "                temp_range2.remove(k) \n",
    "                for s1 in sub_el_list:\n",
    "                    temp_list3[k] = s1 # 나머지 28가지로 치환\n",
    "\n",
    "                    if temp_range2: # 4원소인 경우 바로 k 있는 for문 2번 돌아감\n",
    "                        for s2 in sub_el_list:\n",
    "                            temp_list4 = temp_list3[:]\n",
    "                            temp_list4[temp_range2[0]] = s2\n",
    "                            substituted_list.append(temp_list4+[df['material_id'][j]]) # 나머지 28가지로 치환\n",
    "                    else: # 3원소인 경우\n",
    "                        temp_list5 = temp_list3[:]\n",
    "                        substituted_list.append(temp_list5+[df['material_id'][j]])\n",
    "                        \n",
    "    return substituted_list"
   ]
  },
  {
   "cell_type": "code",
   "execution_count": 8,
   "id": "e625ca17",
   "metadata": {
    "scrolled": true,
    "tags": []
   },
   "outputs": [
    {
     "data": {
      "application/vnd.jupyter.widget-view+json": {
       "model_id": "50c530a91be34ae2bb7c157134cbb2f4",
       "version_major": 2,
       "version_minor": 0
      },
      "text/plain": [
       "  0%|          | 0/10 [00:00<?, ?it/s]"
      ]
     },
     "metadata": {},
     "output_type": "display_data"
    }
   ],
   "source": [
    "substituted_list=substitution(df,sub_el_list)"
   ]
  },
  {
   "cell_type": "code",
   "execution_count": 9,
   "id": "ffb6441f",
   "metadata": {
    "scrolled": true,
    "tags": []
   },
   "outputs": [
    {
     "data": {
      "text/plain": [
       "[['Li', 'S', 'Li', 1.0, 2.0, 1.0, 'mp-1096051'],\n",
       " ['Li', 'S', 'B', 1.0, 2.0, 1.0, 'mp-1096051'],\n",
       " ['Li', 'S', 'C', 1.0, 2.0, 1.0, 'mp-1096051'],\n",
       " ['Li', 'S', 'N', 1.0, 2.0, 1.0, 'mp-1096051'],\n",
       " ['Li', 'S', 'O', 1.0, 2.0, 1.0, 'mp-1096051']]"
      ]
     },
     "execution_count": 9,
     "metadata": {},
     "output_type": "execute_result"
    }
   ],
   "source": [
    "substituted_list[:5]"
   ]
  },
  {
   "cell_type": "code",
   "execution_count": 10,
   "id": "21609f29",
   "metadata": {},
   "outputs": [
    {
     "data": {
      "text/plain": [
       "560"
      ]
     },
     "execution_count": 10,
     "metadata": {},
     "output_type": "execute_result"
    }
   ],
   "source": [
    "len(substituted_list)"
   ]
  },
  {
   "cell_type": "markdown",
   "id": "88034eed",
   "metadata": {},
   "source": [
    "## 치환된 composition 으로 dataframe 만들기"
   ]
  },
  {
   "cell_type": "code",
   "execution_count": 11,
   "id": "42d75643",
   "metadata": {},
   "outputs": [],
   "source": [
    "def comp_to_form(tt):\n",
    "    #tt = ['Li', '에스',  'O', 3.0, 2.0,  12.0]\n",
    "    form = ''\n",
    "    n_ele = int(len(tt)/2)\n",
    "    for i in range(n_ele):\n",
    "        form += str(tt[i]) + str(tt[n_ele+i])\n",
    "    return form\n",
    "def comp_to_ele(tt):\n",
    "    #tt = ['Li', '에스',  'O', 3.0, 2.0,  12.0]\n",
    "    form = ''\n",
    "    n_ele = int(len(tt)/2)\n",
    "    for i in range(n_ele):\n",
    "        form += str(tt[i])# + str(tt[n_ele+i])\n",
    "    return form"
   ]
  },
  {
   "cell_type": "code",
   "execution_count": 12,
   "id": "529ec28b",
   "metadata": {
    "scrolled": true,
    "tags": []
   },
   "outputs": [
    {
     "data": {
      "application/vnd.jupyter.widget-view+json": {
       "model_id": "402b3b1fe0374c2abf13c846ca119d4a",
       "version_major": 2,
       "version_minor": 0
      },
      "text/plain": [
       "  0%|          | 0/560 [00:00<?, ?it/s]"
      ]
     },
     "metadata": {},
     "output_type": "display_data"
    },
    {
     "data": {
      "text/html": [
       "<div>\n",
       "<style scoped>\n",
       "    .dataframe tbody tr th:only-of-type {\n",
       "        vertical-align: middle;\n",
       "    }\n",
       "\n",
       "    .dataframe tbody tr th {\n",
       "        vertical-align: top;\n",
       "    }\n",
       "\n",
       "    .dataframe thead th {\n",
       "        text-align: right;\n",
       "    }\n",
       "</style>\n",
       "<table border=\"1\" class=\"dataframe\">\n",
       "  <thead>\n",
       "    <tr style=\"text-align: right;\">\n",
       "      <th></th>\n",
       "      <th>sub_comp</th>\n",
       "      <th>mpid</th>\n",
       "      <th>reduced_formula</th>\n",
       "    </tr>\n",
       "  </thead>\n",
       "  <tbody>\n",
       "    <tr>\n",
       "      <th>0</th>\n",
       "      <td>[Li, S, Li, 1.0, 2.0, 1.0]</td>\n",
       "      <td>mp-1096051</td>\n",
       "      <td>LiS</td>\n",
       "    </tr>\n",
       "    <tr>\n",
       "      <th>1</th>\n",
       "      <td>[Li, S, B, 1.0, 2.0, 1.0]</td>\n",
       "      <td>mp-1096051</td>\n",
       "      <td>LiBS2</td>\n",
       "    </tr>\n",
       "    <tr>\n",
       "      <th>2</th>\n",
       "      <td>[Li, S, C, 1.0, 2.0, 1.0]</td>\n",
       "      <td>mp-1096051</td>\n",
       "      <td>LiCS2</td>\n",
       "    </tr>\n",
       "    <tr>\n",
       "      <th>3</th>\n",
       "      <td>[Li, S, N, 1.0, 2.0, 1.0]</td>\n",
       "      <td>mp-1096051</td>\n",
       "      <td>LiS2N</td>\n",
       "    </tr>\n",
       "    <tr>\n",
       "      <th>4</th>\n",
       "      <td>[Li, S, O, 1.0, 2.0, 1.0]</td>\n",
       "      <td>mp-1096051</td>\n",
       "      <td>LiS2O</td>\n",
       "    </tr>\n",
       "    <tr>\n",
       "      <th>...</th>\n",
       "      <td>...</td>\n",
       "      <td>...</td>\n",
       "      <td>...</td>\n",
       "    </tr>\n",
       "    <tr>\n",
       "      <th>555</th>\n",
       "      <td>[Li, Te, S, 3.0, 5.0, 8.0]</td>\n",
       "      <td>mp-754811</td>\n",
       "      <td>Li3Te5S8</td>\n",
       "    </tr>\n",
       "    <tr>\n",
       "      <th>556</th>\n",
       "      <td>[Li, I, S, 3.0, 5.0, 8.0]</td>\n",
       "      <td>mp-754811</td>\n",
       "      <td>Li3S8I5</td>\n",
       "    </tr>\n",
       "    <tr>\n",
       "      <th>557</th>\n",
       "      <td>[Li, Ba, S, 3.0, 5.0, 8.0]</td>\n",
       "      <td>mp-754811</td>\n",
       "      <td>Ba5Li3S8</td>\n",
       "    </tr>\n",
       "    <tr>\n",
       "      <th>558</th>\n",
       "      <td>[Li, Hg, S, 3.0, 5.0, 8.0]</td>\n",
       "      <td>mp-754811</td>\n",
       "      <td>Li3Hg5S8</td>\n",
       "    </tr>\n",
       "    <tr>\n",
       "      <th>559</th>\n",
       "      <td>[Li, Pb, S, 3.0, 5.0, 8.0]</td>\n",
       "      <td>mp-754811</td>\n",
       "      <td>Li3Pb5S8</td>\n",
       "    </tr>\n",
       "  </tbody>\n",
       "</table>\n",
       "<p>560 rows × 3 columns</p>\n",
       "</div>"
      ],
      "text/plain": [
       "                       sub_comp        mpid reduced_formula\n",
       "0    [Li, S, Li, 1.0, 2.0, 1.0]  mp-1096051             LiS\n",
       "1     [Li, S, B, 1.0, 2.0, 1.0]  mp-1096051           LiBS2\n",
       "2     [Li, S, C, 1.0, 2.0, 1.0]  mp-1096051           LiCS2\n",
       "3     [Li, S, N, 1.0, 2.0, 1.0]  mp-1096051           LiS2N\n",
       "4     [Li, S, O, 1.0, 2.0, 1.0]  mp-1096051           LiS2O\n",
       "..                          ...         ...             ...\n",
       "555  [Li, Te, S, 3.0, 5.0, 8.0]   mp-754811        Li3Te5S8\n",
       "556   [Li, I, S, 3.0, 5.0, 8.0]   mp-754811         Li3S8I5\n",
       "557  [Li, Ba, S, 3.0, 5.0, 8.0]   mp-754811        Ba5Li3S8\n",
       "558  [Li, Hg, S, 3.0, 5.0, 8.0]   mp-754811        Li3Hg5S8\n",
       "559  [Li, Pb, S, 3.0, 5.0, 8.0]   mp-754811        Li3Pb5S8\n",
       "\n",
       "[560 rows x 3 columns]"
      ]
     },
     "execution_count": 12,
     "metadata": {},
     "output_type": "execute_result"
    }
   ],
   "source": [
    "subcomp_mpid_df = pd.DataFrame()\n",
    "sub_comp_list = []\n",
    "mpid_list = []\n",
    "reduced_form_list = []\n",
    "element = []\n",
    "for i in tqdm(substituted_list):\n",
    "    my_comp_list=i[:-1]\n",
    "    mpid=i[-1]\n",
    "    reduced_form=Composition(comp_to_form(my_comp_list)).reduced_formula\n",
    "#     ele_list = Composition(subcomp_mpid_df['reduced_formula'][i]).chemical_system.split('-')\n",
    "    \n",
    "    sub_comp_list.append(my_comp_list)\n",
    "    mpid_list.append(mpid)\n",
    "    reduced_form_list.append(reduced_form)\n",
    "#     elements.append(tuple(sorted(ele_list)))\n",
    "subcomp_mpid_df['sub_comp'] = sub_comp_list\n",
    "subcomp_mpid_df['mpid'] = mpid_list\n",
    "subcomp_mpid_df['reduced_formula'] = reduced_form_list\n",
    "# subcomp_mpid_df['elements'] = elements\n",
    "subcomp_mpid_df"
   ]
  },
  {
   "cell_type": "code",
   "execution_count": 13,
   "id": "671a4f18",
   "metadata": {},
   "outputs": [],
   "source": [
    "subcomp_mpid_df.to_csv('./new_order_data/01_2_substitution_final.csv',index=False)"
   ]
  },
  {
   "cell_type": "code",
   "execution_count": 14,
   "id": "65268bd0",
   "metadata": {},
   "outputs": [],
   "source": [
    "subcomp_mpid_df = pd.read_csv('./new_order_data/01_2_substitution_final.csv')"
   ]
  },
  {
   "cell_type": "code",
   "execution_count": 15,
   "id": "436f8550",
   "metadata": {},
   "outputs": [
    {
     "data": {
      "text/html": [
       "<div>\n",
       "<style scoped>\n",
       "    .dataframe tbody tr th:only-of-type {\n",
       "        vertical-align: middle;\n",
       "    }\n",
       "\n",
       "    .dataframe tbody tr th {\n",
       "        vertical-align: top;\n",
       "    }\n",
       "\n",
       "    .dataframe thead th {\n",
       "        text-align: right;\n",
       "    }\n",
       "</style>\n",
       "<table border=\"1\" class=\"dataframe\">\n",
       "  <thead>\n",
       "    <tr style=\"text-align: right;\">\n",
       "      <th></th>\n",
       "      <th>sub_comp</th>\n",
       "      <th>mpid</th>\n",
       "      <th>reduced_formula</th>\n",
       "    </tr>\n",
       "  </thead>\n",
       "  <tbody>\n",
       "    <tr>\n",
       "      <th>0</th>\n",
       "      <td>['Li', 'S', 'Li', 1.0, 2.0, 1.0]</td>\n",
       "      <td>mp-1096051</td>\n",
       "      <td>LiS</td>\n",
       "    </tr>\n",
       "    <tr>\n",
       "      <th>1</th>\n",
       "      <td>['Li', 'S', 'B', 1.0, 2.0, 1.0]</td>\n",
       "      <td>mp-1096051</td>\n",
       "      <td>LiBS2</td>\n",
       "    </tr>\n",
       "    <tr>\n",
       "      <th>2</th>\n",
       "      <td>['Li', 'S', 'C', 1.0, 2.0, 1.0]</td>\n",
       "      <td>mp-1096051</td>\n",
       "      <td>LiCS2</td>\n",
       "    </tr>\n",
       "    <tr>\n",
       "      <th>3</th>\n",
       "      <td>['Li', 'S', 'N', 1.0, 2.0, 1.0]</td>\n",
       "      <td>mp-1096051</td>\n",
       "      <td>LiS2N</td>\n",
       "    </tr>\n",
       "    <tr>\n",
       "      <th>4</th>\n",
       "      <td>['Li', 'S', 'O', 1.0, 2.0, 1.0]</td>\n",
       "      <td>mp-1096051</td>\n",
       "      <td>LiS2O</td>\n",
       "    </tr>\n",
       "    <tr>\n",
       "      <th>...</th>\n",
       "      <td>...</td>\n",
       "      <td>...</td>\n",
       "      <td>...</td>\n",
       "    </tr>\n",
       "    <tr>\n",
       "      <th>555</th>\n",
       "      <td>['Li', 'Te', 'S', 3.0, 5.0, 8.0]</td>\n",
       "      <td>mp-754811</td>\n",
       "      <td>Li3Te5S8</td>\n",
       "    </tr>\n",
       "    <tr>\n",
       "      <th>556</th>\n",
       "      <td>['Li', 'I', 'S', 3.0, 5.0, 8.0]</td>\n",
       "      <td>mp-754811</td>\n",
       "      <td>Li3S8I5</td>\n",
       "    </tr>\n",
       "    <tr>\n",
       "      <th>557</th>\n",
       "      <td>['Li', 'Ba', 'S', 3.0, 5.0, 8.0]</td>\n",
       "      <td>mp-754811</td>\n",
       "      <td>Ba5Li3S8</td>\n",
       "    </tr>\n",
       "    <tr>\n",
       "      <th>558</th>\n",
       "      <td>['Li', 'Hg', 'S', 3.0, 5.0, 8.0]</td>\n",
       "      <td>mp-754811</td>\n",
       "      <td>Li3Hg5S8</td>\n",
       "    </tr>\n",
       "    <tr>\n",
       "      <th>559</th>\n",
       "      <td>['Li', 'Pb', 'S', 3.0, 5.0, 8.0]</td>\n",
       "      <td>mp-754811</td>\n",
       "      <td>Li3Pb5S8</td>\n",
       "    </tr>\n",
       "  </tbody>\n",
       "</table>\n",
       "<p>560 rows × 3 columns</p>\n",
       "</div>"
      ],
      "text/plain": [
       "                             sub_comp        mpid reduced_formula\n",
       "0    ['Li', 'S', 'Li', 1.0, 2.0, 1.0]  mp-1096051             LiS\n",
       "1     ['Li', 'S', 'B', 1.0, 2.0, 1.0]  mp-1096051           LiBS2\n",
       "2     ['Li', 'S', 'C', 1.0, 2.0, 1.0]  mp-1096051           LiCS2\n",
       "3     ['Li', 'S', 'N', 1.0, 2.0, 1.0]  mp-1096051           LiS2N\n",
       "4     ['Li', 'S', 'O', 1.0, 2.0, 1.0]  mp-1096051           LiS2O\n",
       "..                                ...         ...             ...\n",
       "555  ['Li', 'Te', 'S', 3.0, 5.0, 8.0]   mp-754811        Li3Te5S8\n",
       "556   ['Li', 'I', 'S', 3.0, 5.0, 8.0]   mp-754811         Li3S8I5\n",
       "557  ['Li', 'Ba', 'S', 3.0, 5.0, 8.0]   mp-754811        Ba5Li3S8\n",
       "558  ['Li', 'Hg', 'S', 3.0, 5.0, 8.0]   mp-754811        Li3Hg5S8\n",
       "559  ['Li', 'Pb', 'S', 3.0, 5.0, 8.0]   mp-754811        Li3Pb5S8\n",
       "\n",
       "[560 rows x 3 columns]"
      ]
     },
     "execution_count": 15,
     "metadata": {},
     "output_type": "execute_result"
    }
   ],
   "source": [
    "subcomp_mpid_df"
   ]
  },
  {
   "cell_type": "code",
   "execution_count": 16,
   "id": "74e75a79",
   "metadata": {
    "tags": []
   },
   "outputs": [
    {
     "data": {
      "text/html": [
       "<div>\n",
       "<style scoped>\n",
       "    .dataframe tbody tr th:only-of-type {\n",
       "        vertical-align: middle;\n",
       "    }\n",
       "\n",
       "    .dataframe tbody tr th {\n",
       "        vertical-align: top;\n",
       "    }\n",
       "\n",
       "    .dataframe thead th {\n",
       "        text-align: right;\n",
       "    }\n",
       "</style>\n",
       "<table border=\"1\" class=\"dataframe\">\n",
       "  <thead>\n",
       "    <tr style=\"text-align: right;\">\n",
       "      <th></th>\n",
       "      <th>material_id</th>\n",
       "      <th>ref_cif</th>\n",
       "      <th>sub_comp</th>\n",
       "      <th>mpid</th>\n",
       "      <th>reduced_formula</th>\n",
       "    </tr>\n",
       "  </thead>\n",
       "  <tbody>\n",
       "    <tr>\n",
       "      <th>0</th>\n",
       "      <td>mp-1096051</td>\n",
       "      <td># generated using pymatgen\\ndata_LiCd2Cu\\n_sym...</td>\n",
       "      <td>['Li', 'S', 'Li', 1.0, 2.0, 1.0]</td>\n",
       "      <td>mp-1096051</td>\n",
       "      <td>LiS</td>\n",
       "    </tr>\n",
       "    <tr>\n",
       "      <th>1</th>\n",
       "      <td>mp-1096051</td>\n",
       "      <td># generated using pymatgen\\ndata_LiCd2Cu\\n_sym...</td>\n",
       "      <td>['Li', 'S', 'B', 1.0, 2.0, 1.0]</td>\n",
       "      <td>mp-1096051</td>\n",
       "      <td>LiBS2</td>\n",
       "    </tr>\n",
       "    <tr>\n",
       "      <th>2</th>\n",
       "      <td>mp-1096051</td>\n",
       "      <td># generated using pymatgen\\ndata_LiCd2Cu\\n_sym...</td>\n",
       "      <td>['Li', 'S', 'C', 1.0, 2.0, 1.0]</td>\n",
       "      <td>mp-1096051</td>\n",
       "      <td>LiCS2</td>\n",
       "    </tr>\n",
       "    <tr>\n",
       "      <th>3</th>\n",
       "      <td>mp-1096051</td>\n",
       "      <td># generated using pymatgen\\ndata_LiCd2Cu\\n_sym...</td>\n",
       "      <td>['Li', 'S', 'N', 1.0, 2.0, 1.0]</td>\n",
       "      <td>mp-1096051</td>\n",
       "      <td>LiS2N</td>\n",
       "    </tr>\n",
       "    <tr>\n",
       "      <th>4</th>\n",
       "      <td>mp-1096051</td>\n",
       "      <td># generated using pymatgen\\ndata_LiCd2Cu\\n_sym...</td>\n",
       "      <td>['Li', 'S', 'O', 1.0, 2.0, 1.0]</td>\n",
       "      <td>mp-1096051</td>\n",
       "      <td>LiS2O</td>\n",
       "    </tr>\n",
       "    <tr>\n",
       "      <th>...</th>\n",
       "      <td>...</td>\n",
       "      <td>...</td>\n",
       "      <td>...</td>\n",
       "      <td>...</td>\n",
       "      <td>...</td>\n",
       "    </tr>\n",
       "    <tr>\n",
       "      <th>555</th>\n",
       "      <td>mp-754811</td>\n",
       "      <td># generated using pymatgen\\ndata_Li3Mn5O8\\n_sy...</td>\n",
       "      <td>['Li', 'Te', 'S', 3.0, 5.0, 8.0]</td>\n",
       "      <td>mp-754811</td>\n",
       "      <td>Li3Te5S8</td>\n",
       "    </tr>\n",
       "    <tr>\n",
       "      <th>556</th>\n",
       "      <td>mp-754811</td>\n",
       "      <td># generated using pymatgen\\ndata_Li3Mn5O8\\n_sy...</td>\n",
       "      <td>['Li', 'I', 'S', 3.0, 5.0, 8.0]</td>\n",
       "      <td>mp-754811</td>\n",
       "      <td>Li3S8I5</td>\n",
       "    </tr>\n",
       "    <tr>\n",
       "      <th>557</th>\n",
       "      <td>mp-754811</td>\n",
       "      <td># generated using pymatgen\\ndata_Li3Mn5O8\\n_sy...</td>\n",
       "      <td>['Li', 'Ba', 'S', 3.0, 5.0, 8.0]</td>\n",
       "      <td>mp-754811</td>\n",
       "      <td>Ba5Li3S8</td>\n",
       "    </tr>\n",
       "    <tr>\n",
       "      <th>558</th>\n",
       "      <td>mp-754811</td>\n",
       "      <td># generated using pymatgen\\ndata_Li3Mn5O8\\n_sy...</td>\n",
       "      <td>['Li', 'Hg', 'S', 3.0, 5.0, 8.0]</td>\n",
       "      <td>mp-754811</td>\n",
       "      <td>Li3Hg5S8</td>\n",
       "    </tr>\n",
       "    <tr>\n",
       "      <th>559</th>\n",
       "      <td>mp-754811</td>\n",
       "      <td># generated using pymatgen\\ndata_Li3Mn5O8\\n_sy...</td>\n",
       "      <td>['Li', 'Pb', 'S', 3.0, 5.0, 8.0]</td>\n",
       "      <td>mp-754811</td>\n",
       "      <td>Li3Pb5S8</td>\n",
       "    </tr>\n",
       "  </tbody>\n",
       "</table>\n",
       "<p>560 rows × 5 columns</p>\n",
       "</div>"
      ],
      "text/plain": [
       "    material_id                                            ref_cif  \\\n",
       "0    mp-1096051  # generated using pymatgen\\ndata_LiCd2Cu\\n_sym...   \n",
       "1    mp-1096051  # generated using pymatgen\\ndata_LiCd2Cu\\n_sym...   \n",
       "2    mp-1096051  # generated using pymatgen\\ndata_LiCd2Cu\\n_sym...   \n",
       "3    mp-1096051  # generated using pymatgen\\ndata_LiCd2Cu\\n_sym...   \n",
       "4    mp-1096051  # generated using pymatgen\\ndata_LiCd2Cu\\n_sym...   \n",
       "..          ...                                                ...   \n",
       "555   mp-754811  # generated using pymatgen\\ndata_Li3Mn5O8\\n_sy...   \n",
       "556   mp-754811  # generated using pymatgen\\ndata_Li3Mn5O8\\n_sy...   \n",
       "557   mp-754811  # generated using pymatgen\\ndata_Li3Mn5O8\\n_sy...   \n",
       "558   mp-754811  # generated using pymatgen\\ndata_Li3Mn5O8\\n_sy...   \n",
       "559   mp-754811  # generated using pymatgen\\ndata_Li3Mn5O8\\n_sy...   \n",
       "\n",
       "                             sub_comp        mpid reduced_formula  \n",
       "0    ['Li', 'S', 'Li', 1.0, 2.0, 1.0]  mp-1096051             LiS  \n",
       "1     ['Li', 'S', 'B', 1.0, 2.0, 1.0]  mp-1096051           LiBS2  \n",
       "2     ['Li', 'S', 'C', 1.0, 2.0, 1.0]  mp-1096051           LiCS2  \n",
       "3     ['Li', 'S', 'N', 1.0, 2.0, 1.0]  mp-1096051           LiS2N  \n",
       "4     ['Li', 'S', 'O', 1.0, 2.0, 1.0]  mp-1096051           LiS2O  \n",
       "..                                ...         ...             ...  \n",
       "555  ['Li', 'Te', 'S', 3.0, 5.0, 8.0]   mp-754811        Li3Te5S8  \n",
       "556   ['Li', 'I', 'S', 3.0, 5.0, 8.0]   mp-754811         Li3S8I5  \n",
       "557  ['Li', 'Ba', 'S', 3.0, 5.0, 8.0]   mp-754811        Ba5Li3S8  \n",
       "558  ['Li', 'Hg', 'S', 3.0, 5.0, 8.0]   mp-754811        Li3Hg5S8  \n",
       "559  ['Li', 'Pb', 'S', 3.0, 5.0, 8.0]   mp-754811        Li3Pb5S8  \n",
       "\n",
       "[560 rows x 5 columns]"
      ]
     },
     "execution_count": 16,
     "metadata": {},
     "output_type": "execute_result"
    }
   ],
   "source": [
    "selected_structure_df = subcomp_mpid_df\n",
    "selected_structure_df = pd.merge(df[['material_id','cif']],selected_structure_df,left_on='material_id',right_on='mpid',how='right').rename({'cif':'ref_cif'},axis=1)\n",
    "selected_structure_df"
   ]
  },
  {
   "cell_type": "code",
   "execution_count": 17,
   "id": "f61a43be",
   "metadata": {
    "scrolled": true,
    "tags": []
   },
   "outputs": [
    {
     "data": {
      "application/vnd.jupyter.widget-view+json": {
       "model_id": "a0eba998766f46e7beda57cd9ce21b3f",
       "version_major": 2,
       "version_minor": 0
      },
      "text/plain": [
       "0it [00:00, ?it/s]"
      ]
     },
     "metadata": {},
     "output_type": "display_data"
    }
   ],
   "source": [
    "structure_substitution_input_list = [r.to_dict() for _, r in tqdm(selected_structure_df[['mpid','sub_comp','ref_cif']].iterrows())]\n",
    "with open('./new_order_data/01_3_structure_substitution_input_list.pkl','wb') as f:\n",
    "    pickle.dump(structure_substitution_input_list,f)"
   ]
  },
  {
   "cell_type": "code",
   "execution_count": 19,
   "id": "45ab703f",
   "metadata": {},
   "outputs": [
    {
     "data": {
      "text/plain": [
       "{'mpid': 'mp-1096051',\n",
       " 'sub_comp': \"['Li', 'S', 'Li', 1.0, 2.0, 1.0]\",\n",
       " 'ref_cif': \"# generated using pymatgen\\ndata_LiCd2Cu\\n_symmetry_space_group_name_H-M   'P 1'\\n_cell_length_a   10.86791741\\n_cell_length_b   10.86791741\\n_cell_length_c   10.86791741\\n_cell_angle_alpha   120.69537374\\n_cell_angle_beta   119.72607237\\n_cell_angle_gamma   89.63746566\\n_symmetry_Int_Tables_number   1\\n_chemical_formula_structural   LiCd2Cu\\n_chemical_formula_sum   'Li1 Cd2 Cu1'\\n_cell_volume   904.66950162\\n_cell_formula_units_Z   1\\nloop_\\n _symmetry_equiv_pos_site_id\\n _symmetry_equiv_pos_as_xyz\\n  1  'x, y, z'\\nloop_\\n _atom_site_type_symbol\\n _atom_site_label\\n _atom_site_symmetry_multiplicity\\n _atom_site_fract_x\\n _atom_site_fract_y\\n _atom_site_fract_z\\n _atom_site_occupancy\\n  Li  Li0  1  0.00000000  0.00000000  0.00000000  1\\n  Cd  Cd1  1  0.00000000  0.26158700  0.26158700  1\\n  Cd  Cd2  1  0.00000000  0.73841300  0.73841300  1\\n  Cu  Cu3  1  0.00000000  0.50000000  0.50000000  1\\n\"}"
      ]
     },
     "execution_count": 19,
     "metadata": {},
     "output_type": "execute_result"
    }
   ],
   "source": [
    "structure_substitution_input_list[0]"
   ]
  },
  {
   "cell_type": "code",
   "execution_count": null,
   "id": "f0ba0b15",
   "metadata": {},
   "outputs": [],
   "source": []
  },
  {
   "cell_type": "code",
   "execution_count": null,
   "id": "a091326c",
   "metadata": {},
   "outputs": [],
   "source": []
  },
  {
   "cell_type": "code",
   "execution_count": null,
   "id": "fb34df19",
   "metadata": {},
   "outputs": [],
   "source": []
  },
  {
   "cell_type": "code",
   "execution_count": null,
   "id": "ea333b4d",
   "metadata": {},
   "outputs": [],
   "source": []
  },
  {
   "cell_type": "code",
   "execution_count": null,
   "id": "235009be",
   "metadata": {},
   "outputs": [],
   "source": []
  },
  {
   "cell_type": "code",
   "execution_count": null,
   "id": "7835169c",
   "metadata": {},
   "outputs": [],
   "source": []
  },
  {
   "cell_type": "code",
   "execution_count": 52,
   "id": "48f3f64e",
   "metadata": {},
   "outputs": [
    {
     "data": {
      "text/html": [
       "<div>\n",
       "<style scoped>\n",
       "    .dataframe tbody tr th:only-of-type {\n",
       "        vertical-align: middle;\n",
       "    }\n",
       "\n",
       "    .dataframe tbody tr th {\n",
       "        vertical-align: top;\n",
       "    }\n",
       "\n",
       "    .dataframe thead th {\n",
       "        text-align: right;\n",
       "    }\n",
       "</style>\n",
       "<table border=\"1\" class=\"dataframe\">\n",
       "  <thead>\n",
       "    <tr style=\"text-align: right;\">\n",
       "      <th></th>\n",
       "      <th>material_id</th>\n",
       "      <th>ref_cif</th>\n",
       "      <th>sub_comp</th>\n",
       "      <th>mpid</th>\n",
       "      <th>reduced_formula</th>\n",
       "    </tr>\n",
       "  </thead>\n",
       "  <tbody>\n",
       "    <tr>\n",
       "      <th>0</th>\n",
       "      <td>mp-1096051</td>\n",
       "      <td># generated using pymatgen\\ndata_LiCd2Cu\\n_sym...</td>\n",
       "      <td>[Li, S, Li, 1.0, 2.0, 1.0]</td>\n",
       "      <td>mp-1096051</td>\n",
       "      <td>LiS</td>\n",
       "    </tr>\n",
       "    <tr>\n",
       "      <th>1</th>\n",
       "      <td>mp-1096051</td>\n",
       "      <td># generated using pymatgen\\ndata_LiCd2Cu\\n_sym...</td>\n",
       "      <td>[Li, S, B, 1.0, 2.0, 1.0]</td>\n",
       "      <td>mp-1096051</td>\n",
       "      <td>LiBS2</td>\n",
       "    </tr>\n",
       "    <tr>\n",
       "      <th>2</th>\n",
       "      <td>mp-1096051</td>\n",
       "      <td># generated using pymatgen\\ndata_LiCd2Cu\\n_sym...</td>\n",
       "      <td>[Li, S, C, 1.0, 2.0, 1.0]</td>\n",
       "      <td>mp-1096051</td>\n",
       "      <td>LiCS2</td>\n",
       "    </tr>\n",
       "  </tbody>\n",
       "</table>\n",
       "</div>"
      ],
      "text/plain": [
       "  material_id                                            ref_cif  \\\n",
       "0  mp-1096051  # generated using pymatgen\\ndata_LiCd2Cu\\n_sym...   \n",
       "1  mp-1096051  # generated using pymatgen\\ndata_LiCd2Cu\\n_sym...   \n",
       "2  mp-1096051  # generated using pymatgen\\ndata_LiCd2Cu\\n_sym...   \n",
       "\n",
       "                     sub_comp        mpid reduced_formula  \n",
       "0  [Li, S, Li, 1.0, 2.0, 1.0]  mp-1096051             LiS  \n",
       "1   [Li, S, B, 1.0, 2.0, 1.0]  mp-1096051           LiBS2  \n",
       "2   [Li, S, C, 1.0, 2.0, 1.0]  mp-1096051           LiCS2  "
      ]
     },
     "execution_count": 52,
     "metadata": {},
     "output_type": "execute_result"
    }
   ],
   "source": [
    "def test_apply(x):\n",
    "    mpid = x['material_id']\n",
    "    struc = Structure.from_str(x['ref_cif'],fmt='cif')\n",
    "    initial_chemsys_list = (df[df['material_id'] == mpid]['formula']).iloc[0] # struc.composition.chemical_system.split('-')\n",
    "    final_chemsys_list = literal_eval(x['sub_comp'])\n",
    "    \n",
    "    return [mpid,final_chemsys_list,struc]\n",
    "test_df = selected_structure_df[:3]\n",
    "test_df"
   ]
  },
  {
   "cell_type": "code",
   "execution_count": 53,
   "id": "f18bc330",
   "metadata": {},
   "outputs": [
    {
     "ename": "ValueError",
     "evalue": "malformed node or string: ['Li', 'S', 'Li', 1.0, 2.0, 1.0]",
     "output_type": "error",
     "traceback": [
      "\u001b[0;31m---------------------------------------------------------------------------\u001b[0m",
      "\u001b[0;31mValueError\u001b[0m                                Traceback (most recent call last)",
      "\u001b[0;32m/tmp/ipykernel_3378772/1955889407.py\u001b[0m in \u001b[0;36m<module>\u001b[0;34m\u001b[0m\n\u001b[0;32m----> 1\u001b[0;31m \u001b[0mtest_apply\u001b[0m\u001b[0;34m(\u001b[0m\u001b[0mtest_df\u001b[0m\u001b[0;34m.\u001b[0m\u001b[0miloc\u001b[0m\u001b[0;34m[\u001b[0m\u001b[0;36m0\u001b[0m\u001b[0;34m]\u001b[0m\u001b[0;34m)\u001b[0m\u001b[0;34m\u001b[0m\u001b[0;34m\u001b[0m\u001b[0m\n\u001b[0m",
      "\u001b[0;32m/tmp/ipykernel_3378772/2953551541.py\u001b[0m in \u001b[0;36mtest_apply\u001b[0;34m(x)\u001b[0m\n\u001b[1;32m      3\u001b[0m     \u001b[0mstruc\u001b[0m \u001b[0;34m=\u001b[0m \u001b[0mStructure\u001b[0m\u001b[0;34m.\u001b[0m\u001b[0mfrom_str\u001b[0m\u001b[0;34m(\u001b[0m\u001b[0mx\u001b[0m\u001b[0;34m[\u001b[0m\u001b[0;34m'ref_cif'\u001b[0m\u001b[0;34m]\u001b[0m\u001b[0;34m,\u001b[0m\u001b[0mfmt\u001b[0m\u001b[0;34m=\u001b[0m\u001b[0;34m'cif'\u001b[0m\u001b[0;34m)\u001b[0m\u001b[0;34m\u001b[0m\u001b[0;34m\u001b[0m\u001b[0m\n\u001b[1;32m      4\u001b[0m     \u001b[0minitial_chemsys_list\u001b[0m \u001b[0;34m=\u001b[0m \u001b[0;34m(\u001b[0m\u001b[0mdf\u001b[0m\u001b[0;34m[\u001b[0m\u001b[0mdf\u001b[0m\u001b[0;34m[\u001b[0m\u001b[0;34m'material_id'\u001b[0m\u001b[0;34m]\u001b[0m \u001b[0;34m==\u001b[0m \u001b[0mmpid\u001b[0m\u001b[0;34m]\u001b[0m\u001b[0;34m[\u001b[0m\u001b[0;34m'formula'\u001b[0m\u001b[0;34m]\u001b[0m\u001b[0;34m)\u001b[0m\u001b[0;34m.\u001b[0m\u001b[0miloc\u001b[0m\u001b[0;34m[\u001b[0m\u001b[0;36m0\u001b[0m\u001b[0;34m]\u001b[0m \u001b[0;31m# struc.composition.chemical_system.split('-')\u001b[0m\u001b[0;34m\u001b[0m\u001b[0;34m\u001b[0m\u001b[0m\n\u001b[0;32m----> 5\u001b[0;31m     \u001b[0mfinal_chemsys_list\u001b[0m \u001b[0;34m=\u001b[0m \u001b[0mliteral_eval\u001b[0m\u001b[0;34m(\u001b[0m\u001b[0mx\u001b[0m\u001b[0;34m[\u001b[0m\u001b[0;34m'sub_comp'\u001b[0m\u001b[0;34m]\u001b[0m\u001b[0;34m)\u001b[0m\u001b[0;34m\u001b[0m\u001b[0;34m\u001b[0m\u001b[0m\n\u001b[0m\u001b[1;32m      6\u001b[0m \u001b[0;34m\u001b[0m\u001b[0m\n\u001b[1;32m      7\u001b[0m     \u001b[0;32mreturn\u001b[0m \u001b[0;34m[\u001b[0m\u001b[0mmpid\u001b[0m\u001b[0;34m,\u001b[0m\u001b[0mfinal_chemsys_list\u001b[0m\u001b[0;34m,\u001b[0m\u001b[0mstruc\u001b[0m\u001b[0;34m]\u001b[0m\u001b[0;34m\u001b[0m\u001b[0;34m\u001b[0m\u001b[0m\n",
      "\u001b[0;32m~/miniconda3/envs/dft/lib/python3.8/ast.py\u001b[0m in \u001b[0;36mliteral_eval\u001b[0;34m(node_or_string)\u001b[0m\n\u001b[1;32m     97\u001b[0m                     \u001b[0;32mreturn\u001b[0m \u001b[0mleft\u001b[0m \u001b[0;34m-\u001b[0m \u001b[0mright\u001b[0m\u001b[0;34m\u001b[0m\u001b[0;34m\u001b[0m\u001b[0m\n\u001b[1;32m     98\u001b[0m         \u001b[0;32mreturn\u001b[0m \u001b[0m_convert_signed_num\u001b[0m\u001b[0;34m(\u001b[0m\u001b[0mnode\u001b[0m\u001b[0;34m)\u001b[0m\u001b[0;34m\u001b[0m\u001b[0;34m\u001b[0m\u001b[0m\n\u001b[0;32m---> 99\u001b[0;31m     \u001b[0;32mreturn\u001b[0m \u001b[0m_convert\u001b[0m\u001b[0;34m(\u001b[0m\u001b[0mnode_or_string\u001b[0m\u001b[0;34m)\u001b[0m\u001b[0;34m\u001b[0m\u001b[0;34m\u001b[0m\u001b[0m\n\u001b[0m\u001b[1;32m    100\u001b[0m \u001b[0;34m\u001b[0m\u001b[0m\n\u001b[1;32m    101\u001b[0m \u001b[0;34m\u001b[0m\u001b[0m\n",
      "\u001b[0;32m~/miniconda3/envs/dft/lib/python3.8/ast.py\u001b[0m in \u001b[0;36m_convert\u001b[0;34m(node)\u001b[0m\n\u001b[1;32m     96\u001b[0m                 \u001b[0;32melse\u001b[0m\u001b[0;34m:\u001b[0m\u001b[0;34m\u001b[0m\u001b[0;34m\u001b[0m\u001b[0m\n\u001b[1;32m     97\u001b[0m                     \u001b[0;32mreturn\u001b[0m \u001b[0mleft\u001b[0m \u001b[0;34m-\u001b[0m \u001b[0mright\u001b[0m\u001b[0;34m\u001b[0m\u001b[0;34m\u001b[0m\u001b[0m\n\u001b[0;32m---> 98\u001b[0;31m         \u001b[0;32mreturn\u001b[0m \u001b[0m_convert_signed_num\u001b[0m\u001b[0;34m(\u001b[0m\u001b[0mnode\u001b[0m\u001b[0;34m)\u001b[0m\u001b[0;34m\u001b[0m\u001b[0;34m\u001b[0m\u001b[0m\n\u001b[0m\u001b[1;32m     99\u001b[0m     \u001b[0;32mreturn\u001b[0m \u001b[0m_convert\u001b[0m\u001b[0;34m(\u001b[0m\u001b[0mnode_or_string\u001b[0m\u001b[0;34m)\u001b[0m\u001b[0;34m\u001b[0m\u001b[0;34m\u001b[0m\u001b[0m\n\u001b[1;32m    100\u001b[0m \u001b[0;34m\u001b[0m\u001b[0m\n",
      "\u001b[0;32m~/miniconda3/envs/dft/lib/python3.8/ast.py\u001b[0m in \u001b[0;36m_convert_signed_num\u001b[0;34m(node)\u001b[0m\n\u001b[1;32m     73\u001b[0m             \u001b[0;32melse\u001b[0m\u001b[0;34m:\u001b[0m\u001b[0;34m\u001b[0m\u001b[0;34m\u001b[0m\u001b[0m\n\u001b[1;32m     74\u001b[0m                 \u001b[0;32mreturn\u001b[0m \u001b[0;34m-\u001b[0m \u001b[0moperand\u001b[0m\u001b[0;34m\u001b[0m\u001b[0;34m\u001b[0m\u001b[0m\n\u001b[0;32m---> 75\u001b[0;31m         \u001b[0;32mreturn\u001b[0m \u001b[0m_convert_num\u001b[0m\u001b[0;34m(\u001b[0m\u001b[0mnode\u001b[0m\u001b[0;34m)\u001b[0m\u001b[0;34m\u001b[0m\u001b[0;34m\u001b[0m\u001b[0m\n\u001b[0m\u001b[1;32m     76\u001b[0m     \u001b[0;32mdef\u001b[0m \u001b[0m_convert\u001b[0m\u001b[0;34m(\u001b[0m\u001b[0mnode\u001b[0m\u001b[0;34m)\u001b[0m\u001b[0;34m:\u001b[0m\u001b[0;34m\u001b[0m\u001b[0;34m\u001b[0m\u001b[0m\n\u001b[1;32m     77\u001b[0m         \u001b[0;32mif\u001b[0m \u001b[0misinstance\u001b[0m\u001b[0;34m(\u001b[0m\u001b[0mnode\u001b[0m\u001b[0;34m,\u001b[0m \u001b[0mConstant\u001b[0m\u001b[0;34m)\u001b[0m\u001b[0;34m:\u001b[0m\u001b[0;34m\u001b[0m\u001b[0;34m\u001b[0m\u001b[0m\n",
      "\u001b[0;32m~/miniconda3/envs/dft/lib/python3.8/ast.py\u001b[0m in \u001b[0;36m_convert_num\u001b[0;34m(node)\u001b[0m\n\u001b[1;32m     64\u001b[0m     \u001b[0;32mdef\u001b[0m \u001b[0m_convert_num\u001b[0m\u001b[0;34m(\u001b[0m\u001b[0mnode\u001b[0m\u001b[0;34m)\u001b[0m\u001b[0;34m:\u001b[0m\u001b[0;34m\u001b[0m\u001b[0;34m\u001b[0m\u001b[0m\n\u001b[1;32m     65\u001b[0m         \u001b[0;32mif\u001b[0m \u001b[0;32mnot\u001b[0m \u001b[0misinstance\u001b[0m\u001b[0;34m(\u001b[0m\u001b[0mnode\u001b[0m\u001b[0;34m,\u001b[0m \u001b[0mConstant\u001b[0m\u001b[0;34m)\u001b[0m \u001b[0;32mor\u001b[0m \u001b[0mtype\u001b[0m\u001b[0;34m(\u001b[0m\u001b[0mnode\u001b[0m\u001b[0;34m.\u001b[0m\u001b[0mvalue\u001b[0m\u001b[0;34m)\u001b[0m \u001b[0;32mnot\u001b[0m \u001b[0;32min\u001b[0m \u001b[0;34m(\u001b[0m\u001b[0mint\u001b[0m\u001b[0;34m,\u001b[0m \u001b[0mfloat\u001b[0m\u001b[0;34m,\u001b[0m \u001b[0mcomplex\u001b[0m\u001b[0;34m)\u001b[0m\u001b[0;34m:\u001b[0m\u001b[0;34m\u001b[0m\u001b[0;34m\u001b[0m\u001b[0m\n\u001b[0;32m---> 66\u001b[0;31m             \u001b[0m_raise_malformed_node\u001b[0m\u001b[0;34m(\u001b[0m\u001b[0mnode\u001b[0m\u001b[0;34m)\u001b[0m\u001b[0;34m\u001b[0m\u001b[0;34m\u001b[0m\u001b[0m\n\u001b[0m\u001b[1;32m     67\u001b[0m         \u001b[0;32mreturn\u001b[0m \u001b[0mnode\u001b[0m\u001b[0;34m.\u001b[0m\u001b[0mvalue\u001b[0m\u001b[0;34m\u001b[0m\u001b[0;34m\u001b[0m\u001b[0m\n\u001b[1;32m     68\u001b[0m     \u001b[0;32mdef\u001b[0m \u001b[0m_convert_signed_num\u001b[0m\u001b[0;34m(\u001b[0m\u001b[0mnode\u001b[0m\u001b[0;34m)\u001b[0m\u001b[0;34m:\u001b[0m\u001b[0;34m\u001b[0m\u001b[0;34m\u001b[0m\u001b[0m\n",
      "\u001b[0;32m~/miniconda3/envs/dft/lib/python3.8/ast.py\u001b[0m in \u001b[0;36m_raise_malformed_node\u001b[0;34m(node)\u001b[0m\n\u001b[1;32m     61\u001b[0m         \u001b[0mnode_or_string\u001b[0m \u001b[0;34m=\u001b[0m \u001b[0mnode_or_string\u001b[0m\u001b[0;34m.\u001b[0m\u001b[0mbody\u001b[0m\u001b[0;34m\u001b[0m\u001b[0;34m\u001b[0m\u001b[0m\n\u001b[1;32m     62\u001b[0m     \u001b[0;32mdef\u001b[0m \u001b[0m_raise_malformed_node\u001b[0m\u001b[0;34m(\u001b[0m\u001b[0mnode\u001b[0m\u001b[0;34m)\u001b[0m\u001b[0;34m:\u001b[0m\u001b[0;34m\u001b[0m\u001b[0;34m\u001b[0m\u001b[0m\n\u001b[0;32m---> 63\u001b[0;31m         \u001b[0;32mraise\u001b[0m \u001b[0mValueError\u001b[0m\u001b[0;34m(\u001b[0m\u001b[0;34mf'malformed node or string: {node!r}'\u001b[0m\u001b[0;34m)\u001b[0m\u001b[0;34m\u001b[0m\u001b[0;34m\u001b[0m\u001b[0m\n\u001b[0m\u001b[1;32m     64\u001b[0m     \u001b[0;32mdef\u001b[0m \u001b[0m_convert_num\u001b[0m\u001b[0;34m(\u001b[0m\u001b[0mnode\u001b[0m\u001b[0;34m)\u001b[0m\u001b[0;34m:\u001b[0m\u001b[0;34m\u001b[0m\u001b[0;34m\u001b[0m\u001b[0m\n\u001b[1;32m     65\u001b[0m         \u001b[0;32mif\u001b[0m \u001b[0;32mnot\u001b[0m \u001b[0misinstance\u001b[0m\u001b[0;34m(\u001b[0m\u001b[0mnode\u001b[0m\u001b[0;34m,\u001b[0m \u001b[0mConstant\u001b[0m\u001b[0;34m)\u001b[0m \u001b[0;32mor\u001b[0m \u001b[0mtype\u001b[0m\u001b[0;34m(\u001b[0m\u001b[0mnode\u001b[0m\u001b[0;34m.\u001b[0m\u001b[0mvalue\u001b[0m\u001b[0;34m)\u001b[0m \u001b[0;32mnot\u001b[0m \u001b[0;32min\u001b[0m \u001b[0;34m(\u001b[0m\u001b[0mint\u001b[0m\u001b[0;34m,\u001b[0m \u001b[0mfloat\u001b[0m\u001b[0;34m,\u001b[0m \u001b[0mcomplex\u001b[0m\u001b[0;34m)\u001b[0m\u001b[0;34m:\u001b[0m\u001b[0;34m\u001b[0m\u001b[0;34m\u001b[0m\u001b[0m\n",
      "\u001b[0;31mValueError\u001b[0m: malformed node or string: ['Li', 'S', 'Li', 1.0, 2.0, 1.0]"
     ]
    }
   ],
   "source": [
    "test_apply(test_df.iloc[0])"
   ]
  },
  {
   "cell_type": "code",
   "execution_count": 29,
   "id": "86dcf167",
   "metadata": {},
   "outputs": [
    {
     "ename": "KeyError",
     "evalue": "'material_id'",
     "output_type": "error",
     "traceback": [
      "\u001b[0;31m---------------------------------------------------------------------------\u001b[0m",
      "\u001b[0;31mKeyError\u001b[0m                                  Traceback (most recent call last)",
      "\u001b[0;32m~/.local/lib/python3.8/site-packages/pandas/core/indexes/base.py\u001b[0m in \u001b[0;36mget_loc\u001b[0;34m(self, key, method, tolerance)\u001b[0m\n\u001b[1;32m   3360\u001b[0m             \u001b[0;32mtry\u001b[0m\u001b[0;34m:\u001b[0m\u001b[0;34m\u001b[0m\u001b[0;34m\u001b[0m\u001b[0m\n\u001b[0;32m-> 3361\u001b[0;31m                 \u001b[0;32mreturn\u001b[0m \u001b[0mself\u001b[0m\u001b[0;34m.\u001b[0m\u001b[0m_engine\u001b[0m\u001b[0;34m.\u001b[0m\u001b[0mget_loc\u001b[0m\u001b[0;34m(\u001b[0m\u001b[0mcasted_key\u001b[0m\u001b[0;34m)\u001b[0m\u001b[0;34m\u001b[0m\u001b[0;34m\u001b[0m\u001b[0m\n\u001b[0m\u001b[1;32m   3362\u001b[0m             \u001b[0;32mexcept\u001b[0m \u001b[0mKeyError\u001b[0m \u001b[0;32mas\u001b[0m \u001b[0merr\u001b[0m\u001b[0;34m:\u001b[0m\u001b[0;34m\u001b[0m\u001b[0;34m\u001b[0m\u001b[0m\n",
      "\u001b[0;32m~/.local/lib/python3.8/site-packages/pandas/_libs/index.pyx\u001b[0m in \u001b[0;36mpandas._libs.index.IndexEngine.get_loc\u001b[0;34m()\u001b[0m\n",
      "\u001b[0;32mpandas/_libs/index_class_helper.pxi\u001b[0m in \u001b[0;36mpandas._libs.index.Int64Engine._check_type\u001b[0;34m()\u001b[0m\n",
      "\u001b[0;32mpandas/_libs/index_class_helper.pxi\u001b[0m in \u001b[0;36mpandas._libs.index.Int64Engine._check_type\u001b[0;34m()\u001b[0m\n",
      "\u001b[0;31mKeyError\u001b[0m: 'material_id'",
      "\nThe above exception was the direct cause of the following exception:\n",
      "\u001b[0;31mKeyError\u001b[0m                                  Traceback (most recent call last)",
      "\u001b[0;32m/tmp/ipykernel_245138/2825279994.py\u001b[0m in \u001b[0;36m<module>\u001b[0;34m\u001b[0m\n\u001b[0;32m----> 1\u001b[0;31m \u001b[0mtest_df\u001b[0m\u001b[0;34m[\u001b[0m\u001b[0;34m[\u001b[0m\u001b[0;34m'material_id'\u001b[0m\u001b[0;34m,\u001b[0m\u001b[0;34m'ref_cif'\u001b[0m\u001b[0;34m,\u001b[0m\u001b[0;34m'sub_comp'\u001b[0m\u001b[0;34m]\u001b[0m\u001b[0;34m]\u001b[0m\u001b[0;34m.\u001b[0m\u001b[0mapply\u001b[0m\u001b[0;34m(\u001b[0m\u001b[0mtest_apply\u001b[0m\u001b[0;34m)\u001b[0m\u001b[0;34m\u001b[0m\u001b[0;34m\u001b[0m\u001b[0m\n\u001b[0m",
      "\u001b[0;32m~/.local/lib/python3.8/site-packages/pandas/core/frame.py\u001b[0m in \u001b[0;36mapply\u001b[0;34m(self, func, axis, raw, result_type, args, **kwargs)\u001b[0m\n\u001b[1;32m   8738\u001b[0m             \u001b[0mkwargs\u001b[0m\u001b[0;34m=\u001b[0m\u001b[0mkwargs\u001b[0m\u001b[0;34m,\u001b[0m\u001b[0;34m\u001b[0m\u001b[0;34m\u001b[0m\u001b[0m\n\u001b[1;32m   8739\u001b[0m         )\n\u001b[0;32m-> 8740\u001b[0;31m         \u001b[0;32mreturn\u001b[0m \u001b[0mop\u001b[0m\u001b[0;34m.\u001b[0m\u001b[0mapply\u001b[0m\u001b[0;34m(\u001b[0m\u001b[0;34m)\u001b[0m\u001b[0;34m\u001b[0m\u001b[0;34m\u001b[0m\u001b[0m\n\u001b[0m\u001b[1;32m   8741\u001b[0m \u001b[0;34m\u001b[0m\u001b[0m\n\u001b[1;32m   8742\u001b[0m     def applymap(\n",
      "\u001b[0;32m~/.local/lib/python3.8/site-packages/pandas/core/apply.py\u001b[0m in \u001b[0;36mapply\u001b[0;34m(self)\u001b[0m\n\u001b[1;32m    686\u001b[0m             \u001b[0;32mreturn\u001b[0m \u001b[0mself\u001b[0m\u001b[0;34m.\u001b[0m\u001b[0mapply_raw\u001b[0m\u001b[0;34m(\u001b[0m\u001b[0;34m)\u001b[0m\u001b[0;34m\u001b[0m\u001b[0;34m\u001b[0m\u001b[0m\n\u001b[1;32m    687\u001b[0m \u001b[0;34m\u001b[0m\u001b[0m\n\u001b[0;32m--> 688\u001b[0;31m         \u001b[0;32mreturn\u001b[0m \u001b[0mself\u001b[0m\u001b[0;34m.\u001b[0m\u001b[0mapply_standard\u001b[0m\u001b[0;34m(\u001b[0m\u001b[0;34m)\u001b[0m\u001b[0;34m\u001b[0m\u001b[0;34m\u001b[0m\u001b[0m\n\u001b[0m\u001b[1;32m    689\u001b[0m \u001b[0;34m\u001b[0m\u001b[0m\n\u001b[1;32m    690\u001b[0m     \u001b[0;32mdef\u001b[0m \u001b[0magg\u001b[0m\u001b[0;34m(\u001b[0m\u001b[0mself\u001b[0m\u001b[0;34m)\u001b[0m\u001b[0;34m:\u001b[0m\u001b[0;34m\u001b[0m\u001b[0;34m\u001b[0m\u001b[0m\n",
      "\u001b[0;32m~/.local/lib/python3.8/site-packages/pandas/core/apply.py\u001b[0m in \u001b[0;36mapply_standard\u001b[0;34m(self)\u001b[0m\n\u001b[1;32m    810\u001b[0m \u001b[0;34m\u001b[0m\u001b[0m\n\u001b[1;32m    811\u001b[0m     \u001b[0;32mdef\u001b[0m \u001b[0mapply_standard\u001b[0m\u001b[0;34m(\u001b[0m\u001b[0mself\u001b[0m\u001b[0;34m)\u001b[0m\u001b[0;34m:\u001b[0m\u001b[0;34m\u001b[0m\u001b[0;34m\u001b[0m\u001b[0m\n\u001b[0;32m--> 812\u001b[0;31m         \u001b[0mresults\u001b[0m\u001b[0;34m,\u001b[0m \u001b[0mres_index\u001b[0m \u001b[0;34m=\u001b[0m \u001b[0mself\u001b[0m\u001b[0;34m.\u001b[0m\u001b[0mapply_series_generator\u001b[0m\u001b[0;34m(\u001b[0m\u001b[0;34m)\u001b[0m\u001b[0;34m\u001b[0m\u001b[0;34m\u001b[0m\u001b[0m\n\u001b[0m\u001b[1;32m    813\u001b[0m \u001b[0;34m\u001b[0m\u001b[0m\n\u001b[1;32m    814\u001b[0m         \u001b[0;31m# wrap results\u001b[0m\u001b[0;34m\u001b[0m\u001b[0;34m\u001b[0m\u001b[0;34m\u001b[0m\u001b[0m\n",
      "\u001b[0;32m~/.local/lib/python3.8/site-packages/pandas/core/apply.py\u001b[0m in \u001b[0;36mapply_series_generator\u001b[0;34m(self)\u001b[0m\n\u001b[1;32m    826\u001b[0m             \u001b[0;32mfor\u001b[0m \u001b[0mi\u001b[0m\u001b[0;34m,\u001b[0m \u001b[0mv\u001b[0m \u001b[0;32min\u001b[0m \u001b[0menumerate\u001b[0m\u001b[0;34m(\u001b[0m\u001b[0mseries_gen\u001b[0m\u001b[0;34m)\u001b[0m\u001b[0;34m:\u001b[0m\u001b[0;34m\u001b[0m\u001b[0;34m\u001b[0m\u001b[0m\n\u001b[1;32m    827\u001b[0m                 \u001b[0;31m# ignore SettingWithCopy here in case the user mutates\u001b[0m\u001b[0;34m\u001b[0m\u001b[0;34m\u001b[0m\u001b[0;34m\u001b[0m\u001b[0m\n\u001b[0;32m--> 828\u001b[0;31m                 \u001b[0mresults\u001b[0m\u001b[0;34m[\u001b[0m\u001b[0mi\u001b[0m\u001b[0;34m]\u001b[0m \u001b[0;34m=\u001b[0m \u001b[0mself\u001b[0m\u001b[0;34m.\u001b[0m\u001b[0mf\u001b[0m\u001b[0;34m(\u001b[0m\u001b[0mv\u001b[0m\u001b[0;34m)\u001b[0m\u001b[0;34m\u001b[0m\u001b[0;34m\u001b[0m\u001b[0m\n\u001b[0m\u001b[1;32m    829\u001b[0m                 \u001b[0;32mif\u001b[0m \u001b[0misinstance\u001b[0m\u001b[0;34m(\u001b[0m\u001b[0mresults\u001b[0m\u001b[0;34m[\u001b[0m\u001b[0mi\u001b[0m\u001b[0;34m]\u001b[0m\u001b[0;34m,\u001b[0m \u001b[0mABCSeries\u001b[0m\u001b[0;34m)\u001b[0m\u001b[0;34m:\u001b[0m\u001b[0;34m\u001b[0m\u001b[0;34m\u001b[0m\u001b[0m\n\u001b[1;32m    830\u001b[0m                     \u001b[0;31m# If we have a view on v, we need to make a copy because\u001b[0m\u001b[0;34m\u001b[0m\u001b[0;34m\u001b[0m\u001b[0;34m\u001b[0m\u001b[0m\n",
      "\u001b[0;32m/tmp/ipykernel_245138/2953551541.py\u001b[0m in \u001b[0;36mtest_apply\u001b[0;34m(x)\u001b[0m\n\u001b[1;32m      1\u001b[0m \u001b[0;32mdef\u001b[0m \u001b[0mtest_apply\u001b[0m\u001b[0;34m(\u001b[0m\u001b[0mx\u001b[0m\u001b[0;34m)\u001b[0m\u001b[0;34m:\u001b[0m\u001b[0;34m\u001b[0m\u001b[0;34m\u001b[0m\u001b[0m\n\u001b[0;32m----> 2\u001b[0;31m     \u001b[0mmpid\u001b[0m \u001b[0;34m=\u001b[0m \u001b[0mx\u001b[0m\u001b[0;34m[\u001b[0m\u001b[0;34m'material_id'\u001b[0m\u001b[0;34m]\u001b[0m\u001b[0;34m\u001b[0m\u001b[0;34m\u001b[0m\u001b[0m\n\u001b[0m\u001b[1;32m      3\u001b[0m     \u001b[0mstruc\u001b[0m \u001b[0;34m=\u001b[0m \u001b[0mStructure\u001b[0m\u001b[0;34m.\u001b[0m\u001b[0mfrom_str\u001b[0m\u001b[0;34m(\u001b[0m\u001b[0mx\u001b[0m\u001b[0;34m[\u001b[0m\u001b[0;34m'ref_cif'\u001b[0m\u001b[0;34m]\u001b[0m\u001b[0;34m,\u001b[0m\u001b[0mfmt\u001b[0m\u001b[0;34m=\u001b[0m\u001b[0;34m'cif'\u001b[0m\u001b[0;34m)\u001b[0m\u001b[0;34m\u001b[0m\u001b[0;34m\u001b[0m\u001b[0m\n\u001b[1;32m      4\u001b[0m     \u001b[0minitial_chemsys_list\u001b[0m \u001b[0;34m=\u001b[0m \u001b[0;34m(\u001b[0m\u001b[0mdf\u001b[0m\u001b[0;34m[\u001b[0m\u001b[0mdf\u001b[0m\u001b[0;34m[\u001b[0m\u001b[0;34m'material_id'\u001b[0m\u001b[0;34m]\u001b[0m \u001b[0;34m==\u001b[0m \u001b[0mmpid\u001b[0m\u001b[0;34m]\u001b[0m\u001b[0;34m[\u001b[0m\u001b[0;34m'formula'\u001b[0m\u001b[0;34m]\u001b[0m\u001b[0;34m)\u001b[0m\u001b[0;34m.\u001b[0m\u001b[0miloc\u001b[0m\u001b[0;34m[\u001b[0m\u001b[0;36m0\u001b[0m\u001b[0;34m]\u001b[0m \u001b[0;31m# struc.composition.chemical_system.split('-')\u001b[0m\u001b[0;34m\u001b[0m\u001b[0;34m\u001b[0m\u001b[0m\n\u001b[1;32m      5\u001b[0m     \u001b[0mfinal_chemsys_list\u001b[0m \u001b[0;34m=\u001b[0m \u001b[0mliteral_eval\u001b[0m\u001b[0;34m(\u001b[0m\u001b[0mx\u001b[0m\u001b[0;34m[\u001b[0m\u001b[0;34m'sub_comp'\u001b[0m\u001b[0;34m]\u001b[0m\u001b[0;34m)\u001b[0m\u001b[0;34m\u001b[0m\u001b[0;34m\u001b[0m\u001b[0m\n",
      "\u001b[0;32m~/.local/lib/python3.8/site-packages/pandas/core/series.py\u001b[0m in \u001b[0;36m__getitem__\u001b[0;34m(self, key)\u001b[0m\n\u001b[1;32m    940\u001b[0m \u001b[0;34m\u001b[0m\u001b[0m\n\u001b[1;32m    941\u001b[0m         \u001b[0;32melif\u001b[0m \u001b[0mkey_is_scalar\u001b[0m\u001b[0;34m:\u001b[0m\u001b[0;34m\u001b[0m\u001b[0;34m\u001b[0m\u001b[0m\n\u001b[0;32m--> 942\u001b[0;31m             \u001b[0;32mreturn\u001b[0m \u001b[0mself\u001b[0m\u001b[0;34m.\u001b[0m\u001b[0m_get_value\u001b[0m\u001b[0;34m(\u001b[0m\u001b[0mkey\u001b[0m\u001b[0;34m)\u001b[0m\u001b[0;34m\u001b[0m\u001b[0;34m\u001b[0m\u001b[0m\n\u001b[0m\u001b[1;32m    943\u001b[0m \u001b[0;34m\u001b[0m\u001b[0m\n\u001b[1;32m    944\u001b[0m         \u001b[0;32mif\u001b[0m \u001b[0mis_hashable\u001b[0m\u001b[0;34m(\u001b[0m\u001b[0mkey\u001b[0m\u001b[0;34m)\u001b[0m\u001b[0;34m:\u001b[0m\u001b[0;34m\u001b[0m\u001b[0;34m\u001b[0m\u001b[0m\n",
      "\u001b[0;32m~/.local/lib/python3.8/site-packages/pandas/core/series.py\u001b[0m in \u001b[0;36m_get_value\u001b[0;34m(self, label, takeable)\u001b[0m\n\u001b[1;32m   1049\u001b[0m \u001b[0;34m\u001b[0m\u001b[0m\n\u001b[1;32m   1050\u001b[0m         \u001b[0;31m# Similar to Index.get_value, but we do not fall back to positional\u001b[0m\u001b[0;34m\u001b[0m\u001b[0;34m\u001b[0m\u001b[0;34m\u001b[0m\u001b[0m\n\u001b[0;32m-> 1051\u001b[0;31m         \u001b[0mloc\u001b[0m \u001b[0;34m=\u001b[0m \u001b[0mself\u001b[0m\u001b[0;34m.\u001b[0m\u001b[0mindex\u001b[0m\u001b[0;34m.\u001b[0m\u001b[0mget_loc\u001b[0m\u001b[0;34m(\u001b[0m\u001b[0mlabel\u001b[0m\u001b[0;34m)\u001b[0m\u001b[0;34m\u001b[0m\u001b[0;34m\u001b[0m\u001b[0m\n\u001b[0m\u001b[1;32m   1052\u001b[0m         \u001b[0;32mreturn\u001b[0m \u001b[0mself\u001b[0m\u001b[0;34m.\u001b[0m\u001b[0mindex\u001b[0m\u001b[0;34m.\u001b[0m\u001b[0m_get_values_for_loc\u001b[0m\u001b[0;34m(\u001b[0m\u001b[0mself\u001b[0m\u001b[0;34m,\u001b[0m \u001b[0mloc\u001b[0m\u001b[0;34m,\u001b[0m \u001b[0mlabel\u001b[0m\u001b[0;34m)\u001b[0m\u001b[0;34m\u001b[0m\u001b[0;34m\u001b[0m\u001b[0m\n\u001b[1;32m   1053\u001b[0m \u001b[0;34m\u001b[0m\u001b[0m\n",
      "\u001b[0;32m~/.local/lib/python3.8/site-packages/pandas/core/indexes/base.py\u001b[0m in \u001b[0;36mget_loc\u001b[0;34m(self, key, method, tolerance)\u001b[0m\n\u001b[1;32m   3361\u001b[0m                 \u001b[0;32mreturn\u001b[0m \u001b[0mself\u001b[0m\u001b[0;34m.\u001b[0m\u001b[0m_engine\u001b[0m\u001b[0;34m.\u001b[0m\u001b[0mget_loc\u001b[0m\u001b[0;34m(\u001b[0m\u001b[0mcasted_key\u001b[0m\u001b[0;34m)\u001b[0m\u001b[0;34m\u001b[0m\u001b[0;34m\u001b[0m\u001b[0m\n\u001b[1;32m   3362\u001b[0m             \u001b[0;32mexcept\u001b[0m \u001b[0mKeyError\u001b[0m \u001b[0;32mas\u001b[0m \u001b[0merr\u001b[0m\u001b[0;34m:\u001b[0m\u001b[0;34m\u001b[0m\u001b[0;34m\u001b[0m\u001b[0m\n\u001b[0;32m-> 3363\u001b[0;31m                 \u001b[0;32mraise\u001b[0m \u001b[0mKeyError\u001b[0m\u001b[0;34m(\u001b[0m\u001b[0mkey\u001b[0m\u001b[0;34m)\u001b[0m \u001b[0;32mfrom\u001b[0m \u001b[0merr\u001b[0m\u001b[0;34m\u001b[0m\u001b[0;34m\u001b[0m\u001b[0m\n\u001b[0m\u001b[1;32m   3364\u001b[0m \u001b[0;34m\u001b[0m\u001b[0m\n\u001b[1;32m   3365\u001b[0m         \u001b[0;32mif\u001b[0m \u001b[0mis_scalar\u001b[0m\u001b[0;34m(\u001b[0m\u001b[0mkey\u001b[0m\u001b[0;34m)\u001b[0m \u001b[0;32mand\u001b[0m \u001b[0misna\u001b[0m\u001b[0;34m(\u001b[0m\u001b[0mkey\u001b[0m\u001b[0;34m)\u001b[0m \u001b[0;32mand\u001b[0m \u001b[0;32mnot\u001b[0m \u001b[0mself\u001b[0m\u001b[0;34m.\u001b[0m\u001b[0mhasnans\u001b[0m\u001b[0;34m:\u001b[0m\u001b[0;34m\u001b[0m\u001b[0;34m\u001b[0m\u001b[0m\n",
      "\u001b[0;31mKeyError\u001b[0m: 'material_id'"
     ]
    }
   ],
   "source": [
    "test_df[['material_id','ref_cif','sub_comp']].apply(test_apply)"
   ]
  },
  {
   "cell_type": "code",
   "execution_count": 10,
   "id": "55b425c6",
   "metadata": {},
   "outputs": [
    {
     "data": {
      "text/plain": [
       "\"# generated using pymatgen\\ndata_LiTiS2\\n_symmetry_space_group_name_H-M   'P 1'\\n_cell_length_a   6.43570339\\n_cell_length_b   6.43570339\\n_cell_length_c   6.43570390\\n_cell_angle_alpha   31.44540514\\n_cell_angle_beta   31.44540514\\n_cell_angle_gamma   31.44540549\\n_symmetry_Int_Tables_number   1\\n_chemical_formula_structural   LiTiS2\\n_chemical_formula_sum   'Li1 Ti1 S2'\\n_cell_volume   64.39980772\\n_cell_formula_units_Z   1\\nloop_\\n _symmetry_equiv_pos_site_id\\n _symmetry_equiv_pos_as_xyz\\n  1  'x, y, z'\\nloop_\\n _atom_site_type_symbol\\n _atom_site_label\\n _atom_site_symmetry_multiplicity\\n _atom_site_fract_x\\n _atom_site_fract_y\\n _atom_site_fract_z\\n _atom_site_occupancy\\n  Li  Li0  1  0.50000000  0.50000000  0.50000000  1\\n  Ti  Ti1  1  0.00000000  0.00000000  0.00000000  1\\n  S  S2  1  0.74577900  0.74577900  0.74577900  1\\n  S  S3  1  0.25422100  0.25422100  0.25422100  1\\n\""
      ]
     },
     "execution_count": 10,
     "metadata": {},
     "output_type": "execute_result"
    }
   ],
   "source": [
    "selected_structure_df['ref_cif'][0]"
   ]
  },
  {
   "cell_type": "code",
   "execution_count": null,
   "id": "901fb592",
   "metadata": {},
   "outputs": [],
   "source": []
  },
  {
   "cell_type": "code",
   "execution_count": 10,
   "id": "ee1b75d9",
   "metadata": {},
   "outputs": [
    {
     "data": {
      "text/plain": [
       "26549208"
      ]
     },
     "execution_count": 10,
     "metadata": {},
     "output_type": "execute_result"
    }
   ],
   "source": [
    "len(structure_substitution_input_list)"
   ]
  },
  {
   "cell_type": "code",
   "execution_count": 9,
   "id": "91025f69",
   "metadata": {},
   "outputs": [],
   "source": [
    "def structure_substitution(row,df=df): # rowDataFramempid, reference structure, substituted chemical system dictionaly expected\n",
    "    mpid = row['mpid']\n",
    "    struc = Structure.from_str(row['ref_cif'],fmt='cif')\n",
    "    initial_chemsys_list = (df[df['material_id'] == mpid]['formula']).iloc[0] # struc.composition.chemical_system.split('-')\n",
    "    final_chemsys_list = literal_eval(row['sub_comp'])\n",
    "    \n",
    "    struc.replace_species(dict(zip(initial_chemsys_list[:3],final_chemsys_list[:3])))\n",
    "    poscar = struc.to(fmt='poscar')\n",
    "    return [mpid,final_chemsys_list,poscar]"
   ]
  },
  {
   "cell_type": "code",
   "execution_count": 10,
   "id": "47ec4732",
   "metadata": {},
   "outputs": [],
   "source": [
    "def structure_substitution_in_file(row,df=df): # rowDataFramempid, reference structure, substituted chemical system dictionaly expected\n",
    "    mpid = row['mpid']\n",
    "    struc = Structure.from_str(row['ref_cif'],fmt='cif')\n",
    "    initial_chemsys_list = (df[df['material_id'] == mpid]['formula']).iloc[0] # struc.composition.chemical_system.split('-')\n",
    "    final_chemsys_list = literal_eval(row['sub_comp'])\n",
    "    \n",
    "    struc.replace_species(dict(zip(initial_chemsys_list[:3],final_chemsys_list[:3])))\n",
    "    poscar = struc.to(fmt='poscar')\n",
    "    with open('./new_order_data/01_3_structure_sub.txt','ab') as f:\n",
    "#         f.write(str([mpid,final_chemsys_list,poscar])+',\\n')\n",
    "        pickle.dump(str([mpid,final_chemsys_list,poscar])+',\\n',f)\n",
    "#     return [mpid,final_chemsys_list,poscar]"
   ]
  },
  {
   "cell_type": "code",
   "execution_count": 2,
   "id": "516dd47a",
   "metadata": {},
   "outputs": [],
   "source": [
    "with open('./new_order_data/01_3_structure_substitution_input_list.pkl','rb') as f:\n",
    "    structure_substitution_input_list = pickle.load(f)"
   ]
  },
  {
   "cell_type": "code",
   "execution_count": 3,
   "id": "ae16ac15",
   "metadata": {},
   "outputs": [
    {
     "data": {
      "text/plain": [
       "26549208"
      ]
     },
     "execution_count": 3,
     "metadata": {},
     "output_type": "execute_result"
    }
   ],
   "source": [
    "len(structure_substitution_input_list)"
   ]
  },
  {
   "cell_type": "code",
   "execution_count": 7,
   "id": "cdf2ffdf",
   "metadata": {},
   "outputs": [
    {
     "data": {
      "text/plain": [
       "\"{'L\""
      ]
     },
     "execution_count": 7,
     "metadata": {},
     "output_type": "execute_result"
    }
   ],
   "source": [
    "mpid = structure_substitution_input_list[0]['mpid']\n",
    "st = Structure.from_str(structure_substitution_input_list[0]['ref_cif'],fmt='cif')\n",
    "ini = (df[df['material_id'] == mpid]['formula']).iloc[0][:3]\n",
    "fin = literal_eval(structure_substitution_input_list[0]['sub_comp'])\n",
    "dict(zip(ini,fin))\n",
    "ini"
   ]
  },
  {
   "cell_type": "code",
   "execution_count": 69,
   "id": "a621e983",
   "metadata": {},
   "outputs": [
    {
     "data": {
      "text/plain": [
       "['Li', 'Ti', 'S', 1.0, 1.0, 2.0]"
      ]
     },
     "execution_count": 69,
     "metadata": {},
     "output_type": "execute_result"
    }
   ],
   "source": [
    "(df[df['material_id'] == mpid]['formula']).iloc[0]"
   ]
  },
  {
   "cell_type": "code",
   "execution_count": 11,
   "id": "9101d0df",
   "metadata": {},
   "outputs": [
    {
     "ename": "ValueError",
     "evalue": "Can't parse Element or String from type <class 'str'>: {.",
     "output_type": "error",
     "traceback": [
      "\u001b[0;31m---------------------------------------------------------------------------\u001b[0m",
      "\u001b[0;31mValueError\u001b[0m                                Traceback (most recent call last)",
      "\u001b[0;32m~/.local/lib/python3.8/site-packages/pymatgen/core/periodic_table.py\u001b[0m in \u001b[0;36mget_el_sp\u001b[0;34m(obj)\u001b[0m\n\u001b[1;32m   1589\u001b[0m     \u001b[0;32mtry\u001b[0m\u001b[0;34m:\u001b[0m\u001b[0;34m\u001b[0m\u001b[0;34m\u001b[0m\u001b[0m\n\u001b[0;32m-> 1590\u001b[0;31m         \u001b[0;32mreturn\u001b[0m \u001b[0mSpecies\u001b[0m\u001b[0;34m.\u001b[0m\u001b[0mfrom_string\u001b[0m\u001b[0;34m(\u001b[0m\u001b[0mobj\u001b[0m\u001b[0;34m)\u001b[0m\u001b[0;34m\u001b[0m\u001b[0;34m\u001b[0m\u001b[0m\n\u001b[0m\u001b[1;32m   1591\u001b[0m     \u001b[0;32mexcept\u001b[0m \u001b[0;34m(\u001b[0m\u001b[0mValueError\u001b[0m\u001b[0;34m,\u001b[0m \u001b[0mKeyError\u001b[0m\u001b[0;34m)\u001b[0m\u001b[0;34m:\u001b[0m\u001b[0;34m\u001b[0m\u001b[0;34m\u001b[0m\u001b[0m\n",
      "\u001b[0;32m~/.local/lib/python3.8/site-packages/pymatgen/core/periodic_table.py\u001b[0m in \u001b[0;36mfrom_string\u001b[0;34m(species_string)\u001b[0m\n\u001b[1;32m   1172\u001b[0m             \u001b[0;32mreturn\u001b[0m \u001b[0mSpecies\u001b[0m\u001b[0;34m(\u001b[0m\u001b[0msym\u001b[0m\u001b[0;34m,\u001b[0m \u001b[0;36m0\u001b[0m \u001b[0;32mif\u001b[0m \u001b[0moxi\u001b[0m \u001b[0;32mis\u001b[0m \u001b[0;32mNone\u001b[0m \u001b[0;32melse\u001b[0m \u001b[0moxi\u001b[0m\u001b[0;34m,\u001b[0m \u001b[0mproperties\u001b[0m\u001b[0;34m)\u001b[0m\u001b[0;34m\u001b[0m\u001b[0;34m\u001b[0m\u001b[0m\n\u001b[0;32m-> 1173\u001b[0;31m         \u001b[0;32mraise\u001b[0m \u001b[0mValueError\u001b[0m\u001b[0;34m(\u001b[0m\u001b[0;34m\"Invalid Species String\"\u001b[0m\u001b[0;34m)\u001b[0m\u001b[0;34m\u001b[0m\u001b[0;34m\u001b[0m\u001b[0m\n\u001b[0m\u001b[1;32m   1174\u001b[0m \u001b[0;34m\u001b[0m\u001b[0m\n",
      "\u001b[0;31mValueError\u001b[0m: Invalid Species String",
      "\nDuring handling of the above exception, another exception occurred:\n",
      "\u001b[0;31mValueError\u001b[0m                                Traceback (most recent call last)",
      "\u001b[0;32m~/.local/lib/python3.8/site-packages/pymatgen/core/periodic_table.py\u001b[0m in \u001b[0;36mget_el_sp\u001b[0;34m(obj)\u001b[0m\n\u001b[1;32m   1592\u001b[0m         \u001b[0;32mtry\u001b[0m\u001b[0;34m:\u001b[0m\u001b[0;34m\u001b[0m\u001b[0;34m\u001b[0m\u001b[0m\n\u001b[0;32m-> 1593\u001b[0;31m             \u001b[0;32mreturn\u001b[0m \u001b[0mElement\u001b[0m\u001b[0;34m(\u001b[0m\u001b[0mobj\u001b[0m\u001b[0;34m)\u001b[0m\u001b[0;34m\u001b[0m\u001b[0;34m\u001b[0m\u001b[0m\n\u001b[0m\u001b[1;32m   1594\u001b[0m         \u001b[0;32mexcept\u001b[0m \u001b[0;34m(\u001b[0m\u001b[0mValueError\u001b[0m\u001b[0;34m,\u001b[0m \u001b[0mKeyError\u001b[0m\u001b[0;34m)\u001b[0m\u001b[0;34m:\u001b[0m\u001b[0;34m\u001b[0m\u001b[0;34m\u001b[0m\u001b[0m\n",
      "\u001b[0;32m~/miniconda3/envs/dft/lib/python3.8/enum.py\u001b[0m in \u001b[0;36m__call__\u001b[0;34m(cls, value, names, module, qualname, type, start)\u001b[0m\n\u001b[1;32m    308\u001b[0m         \u001b[0;32mif\u001b[0m \u001b[0mnames\u001b[0m \u001b[0;32mis\u001b[0m \u001b[0;32mNone\u001b[0m\u001b[0;34m:\u001b[0m  \u001b[0;31m# simple value lookup\u001b[0m\u001b[0;34m\u001b[0m\u001b[0;34m\u001b[0m\u001b[0m\n\u001b[0;32m--> 309\u001b[0;31m             \u001b[0;32mreturn\u001b[0m \u001b[0mcls\u001b[0m\u001b[0;34m.\u001b[0m\u001b[0m__new__\u001b[0m\u001b[0;34m(\u001b[0m\u001b[0mcls\u001b[0m\u001b[0;34m,\u001b[0m \u001b[0mvalue\u001b[0m\u001b[0;34m)\u001b[0m\u001b[0;34m\u001b[0m\u001b[0;34m\u001b[0m\u001b[0m\n\u001b[0m\u001b[1;32m    310\u001b[0m         \u001b[0;31m# otherwise, functional API: we're creating a new Enum type\u001b[0m\u001b[0;34m\u001b[0m\u001b[0;34m\u001b[0m\u001b[0;34m\u001b[0m\u001b[0m\n",
      "\u001b[0;32m~/miniconda3/envs/dft/lib/python3.8/enum.py\u001b[0m in \u001b[0;36m__new__\u001b[0;34m(cls, value)\u001b[0m\n\u001b[1;32m    599\u001b[0m             \u001b[0mexc\u001b[0m\u001b[0;34m.\u001b[0m\u001b[0m__context__\u001b[0m \u001b[0;34m=\u001b[0m \u001b[0mve_exc\u001b[0m\u001b[0;34m\u001b[0m\u001b[0;34m\u001b[0m\u001b[0m\n\u001b[0;32m--> 600\u001b[0;31m             \u001b[0;32mraise\u001b[0m \u001b[0mexc\u001b[0m\u001b[0;34m\u001b[0m\u001b[0;34m\u001b[0m\u001b[0m\n\u001b[0m\u001b[1;32m    601\u001b[0m \u001b[0;34m\u001b[0m\u001b[0m\n",
      "\u001b[0;32m~/miniconda3/envs/dft/lib/python3.8/enum.py\u001b[0m in \u001b[0;36m__new__\u001b[0;34m(cls, value)\u001b[0m\n\u001b[1;32m    583\u001b[0m             \u001b[0mexc\u001b[0m \u001b[0;34m=\u001b[0m \u001b[0;32mNone\u001b[0m\u001b[0;34m\u001b[0m\u001b[0;34m\u001b[0m\u001b[0m\n\u001b[0;32m--> 584\u001b[0;31m             \u001b[0mresult\u001b[0m \u001b[0;34m=\u001b[0m \u001b[0mcls\u001b[0m\u001b[0;34m.\u001b[0m\u001b[0m_missing_\u001b[0m\u001b[0;34m(\u001b[0m\u001b[0mvalue\u001b[0m\u001b[0;34m)\u001b[0m\u001b[0;34m\u001b[0m\u001b[0;34m\u001b[0m\u001b[0m\n\u001b[0m\u001b[1;32m    585\u001b[0m         \u001b[0;32mexcept\u001b[0m \u001b[0mException\u001b[0m \u001b[0;32mas\u001b[0m \u001b[0me\u001b[0m\u001b[0;34m:\u001b[0m\u001b[0;34m\u001b[0m\u001b[0;34m\u001b[0m\u001b[0m\n",
      "\u001b[0;32m~/miniconda3/envs/dft/lib/python3.8/enum.py\u001b[0m in \u001b[0;36m_missing_\u001b[0;34m(cls, value)\u001b[0m\n\u001b[1;32m    612\u001b[0m     \u001b[0;32mdef\u001b[0m \u001b[0m_missing_\u001b[0m\u001b[0;34m(\u001b[0m\u001b[0mcls\u001b[0m\u001b[0;34m,\u001b[0m \u001b[0mvalue\u001b[0m\u001b[0;34m)\u001b[0m\u001b[0;34m:\u001b[0m\u001b[0;34m\u001b[0m\u001b[0;34m\u001b[0m\u001b[0m\n\u001b[0;32m--> 613\u001b[0;31m         \u001b[0;32mraise\u001b[0m \u001b[0mValueError\u001b[0m\u001b[0;34m(\u001b[0m\u001b[0;34m\"%r is not a valid %s\"\u001b[0m \u001b[0;34m%\u001b[0m \u001b[0;34m(\u001b[0m\u001b[0mvalue\u001b[0m\u001b[0;34m,\u001b[0m \u001b[0mcls\u001b[0m\u001b[0;34m.\u001b[0m\u001b[0m__name__\u001b[0m\u001b[0;34m)\u001b[0m\u001b[0;34m)\u001b[0m\u001b[0;34m\u001b[0m\u001b[0;34m\u001b[0m\u001b[0m\n\u001b[0m\u001b[1;32m    614\u001b[0m \u001b[0;34m\u001b[0m\u001b[0m\n",
      "\u001b[0;31mValueError\u001b[0m: '{' is not a valid Element",
      "\nDuring handling of the above exception, another exception occurred:\n",
      "\u001b[0;31mIndexError\u001b[0m                                Traceback (most recent call last)",
      "\u001b[0;32m~/.local/lib/python3.8/site-packages/pymatgen/core/periodic_table.py\u001b[0m in \u001b[0;36mget_el_sp\u001b[0;34m(obj)\u001b[0m\n\u001b[1;32m   1595\u001b[0m             \u001b[0;32mtry\u001b[0m\u001b[0;34m:\u001b[0m\u001b[0;34m\u001b[0m\u001b[0;34m\u001b[0m\u001b[0m\n\u001b[0;32m-> 1596\u001b[0;31m                 \u001b[0;32mreturn\u001b[0m \u001b[0mDummySpecies\u001b[0m\u001b[0;34m.\u001b[0m\u001b[0mfrom_string\u001b[0m\u001b[0;34m(\u001b[0m\u001b[0mobj\u001b[0m\u001b[0;34m)\u001b[0m\u001b[0;34m\u001b[0m\u001b[0;34m\u001b[0m\u001b[0m\n\u001b[0m\u001b[1;32m   1597\u001b[0m             \u001b[0;32mexcept\u001b[0m \u001b[0mException\u001b[0m\u001b[0;34m:\u001b[0m\u001b[0;34m\u001b[0m\u001b[0;34m\u001b[0m\u001b[0m\n",
      "\u001b[0;32m~/.local/lib/python3.8/site-packages/pymatgen/core/periodic_table.py\u001b[0m in \u001b[0;36mfrom_string\u001b[0;34m(species_string)\u001b[0m\n\u001b[1;32m   1494\u001b[0m                 \u001b[0mtoks\u001b[0m \u001b[0;34m=\u001b[0m \u001b[0mm\u001b[0m\u001b[0;34m.\u001b[0m\u001b[0mgroup\u001b[0m\u001b[0;34m(\u001b[0m\u001b[0;36m4\u001b[0m\u001b[0;34m)\u001b[0m\u001b[0;34m.\u001b[0m\u001b[0msplit\u001b[0m\u001b[0;34m(\u001b[0m\u001b[0;34m\"=\"\u001b[0m\u001b[0;34m)\u001b[0m\u001b[0;34m\u001b[0m\u001b[0;34m\u001b[0m\u001b[0m\n\u001b[0;32m-> 1495\u001b[0;31m                 \u001b[0mproperties\u001b[0m \u001b[0;34m=\u001b[0m \u001b[0;34m{\u001b[0m\u001b[0mtoks\u001b[0m\u001b[0;34m[\u001b[0m\u001b[0;36m0\u001b[0m\u001b[0;34m]\u001b[0m\u001b[0;34m:\u001b[0m \u001b[0mfloat\u001b[0m\u001b[0;34m(\u001b[0m\u001b[0mtoks\u001b[0m\u001b[0;34m[\u001b[0m\u001b[0;36m1\u001b[0m\u001b[0;34m]\u001b[0m\u001b[0;34m)\u001b[0m\u001b[0;34m}\u001b[0m\u001b[0;34m\u001b[0m\u001b[0;34m\u001b[0m\u001b[0m\n\u001b[0m\u001b[1;32m   1496\u001b[0m             \u001b[0;32mreturn\u001b[0m \u001b[0mDummySpecies\u001b[0m\u001b[0;34m(\u001b[0m\u001b[0msym\u001b[0m\u001b[0;34m,\u001b[0m \u001b[0moxi\u001b[0m\u001b[0;34m,\u001b[0m \u001b[0mproperties\u001b[0m\u001b[0;34m)\u001b[0m\u001b[0;34m\u001b[0m\u001b[0;34m\u001b[0m\u001b[0m\n",
      "\u001b[0;31mIndexError\u001b[0m: list index out of range",
      "\nDuring handling of the above exception, another exception occurred:\n",
      "\u001b[0;31mValueError\u001b[0m                                Traceback (most recent call last)",
      "\u001b[0;32m/tmp/ipykernel_3768121/147752905.py\u001b[0m in \u001b[0;36m<module>\u001b[0;34m\u001b[0m\n\u001b[0;32m----> 1\u001b[0;31m \u001b[0mprint\u001b[0m\u001b[0;34m(\u001b[0m\u001b[0mstructure_substitution\u001b[0m\u001b[0;34m(\u001b[0m\u001b[0mstructure_substitution_input_list\u001b[0m\u001b[0;34m[\u001b[0m\u001b[0;36m0\u001b[0m\u001b[0;34m]\u001b[0m\u001b[0;34m)\u001b[0m\u001b[0;34m)\u001b[0m\u001b[0;34m\u001b[0m\u001b[0;34m\u001b[0m\u001b[0m\n\u001b[0m",
      "\u001b[0;32m/tmp/ipykernel_3768121/1527256753.py\u001b[0m in \u001b[0;36mstructure_substitution\u001b[0;34m(row, df)\u001b[0m\n\u001b[1;32m      5\u001b[0m     \u001b[0mfinal_chemsys_list\u001b[0m \u001b[0;34m=\u001b[0m \u001b[0mliteral_eval\u001b[0m\u001b[0;34m(\u001b[0m\u001b[0mrow\u001b[0m\u001b[0;34m[\u001b[0m\u001b[0;34m'sub_comp'\u001b[0m\u001b[0;34m]\u001b[0m\u001b[0;34m)\u001b[0m\u001b[0;34m\u001b[0m\u001b[0;34m\u001b[0m\u001b[0m\n\u001b[1;32m      6\u001b[0m \u001b[0;34m\u001b[0m\u001b[0m\n\u001b[0;32m----> 7\u001b[0;31m     \u001b[0mstruc\u001b[0m\u001b[0;34m.\u001b[0m\u001b[0mreplace_species\u001b[0m\u001b[0;34m(\u001b[0m\u001b[0mdict\u001b[0m\u001b[0;34m(\u001b[0m\u001b[0mzip\u001b[0m\u001b[0;34m(\u001b[0m\u001b[0minitial_chemsys_list\u001b[0m\u001b[0;34m[\u001b[0m\u001b[0;34m:\u001b[0m\u001b[0;36m3\u001b[0m\u001b[0;34m]\u001b[0m\u001b[0;34m,\u001b[0m\u001b[0mfinal_chemsys_list\u001b[0m\u001b[0;34m[\u001b[0m\u001b[0;34m:\u001b[0m\u001b[0;36m3\u001b[0m\u001b[0;34m]\u001b[0m\u001b[0;34m)\u001b[0m\u001b[0;34m)\u001b[0m\u001b[0;34m)\u001b[0m\u001b[0;34m\u001b[0m\u001b[0;34m\u001b[0m\u001b[0m\n\u001b[0m\u001b[1;32m      8\u001b[0m     \u001b[0mposcar\u001b[0m \u001b[0;34m=\u001b[0m \u001b[0mstruc\u001b[0m\u001b[0;34m.\u001b[0m\u001b[0mto\u001b[0m\u001b[0;34m(\u001b[0m\u001b[0mfmt\u001b[0m\u001b[0;34m=\u001b[0m\u001b[0;34m'poscar'\u001b[0m\u001b[0;34m)\u001b[0m\u001b[0;34m\u001b[0m\u001b[0;34m\u001b[0m\u001b[0m\n\u001b[1;32m      9\u001b[0m     \u001b[0;32mreturn\u001b[0m \u001b[0;34m[\u001b[0m\u001b[0mmpid\u001b[0m\u001b[0;34m,\u001b[0m\u001b[0mfinal_chemsys_list\u001b[0m\u001b[0;34m,\u001b[0m\u001b[0mposcar\u001b[0m\u001b[0;34m]\u001b[0m\u001b[0;34m\u001b[0m\u001b[0;34m\u001b[0m\u001b[0m\n",
      "\u001b[0;32m~/.local/lib/python3.8/site-packages/pymatgen/core/structure.py\u001b[0m in \u001b[0;36mreplace_species\u001b[0;34m(self, species_mapping)\u001b[0m\n\u001b[1;32m    473\u001b[0m         \"\"\"\n\u001b[1;32m    474\u001b[0m \u001b[0;34m\u001b[0m\u001b[0m\n\u001b[0;32m--> 475\u001b[0;31m         \u001b[0msp_mapping\u001b[0m \u001b[0;34m=\u001b[0m \u001b[0;34m{\u001b[0m\u001b[0mget_el_sp\u001b[0m\u001b[0;34m(\u001b[0m\u001b[0mk\u001b[0m\u001b[0;34m)\u001b[0m\u001b[0;34m:\u001b[0m \u001b[0mv\u001b[0m \u001b[0;32mfor\u001b[0m \u001b[0mk\u001b[0m\u001b[0;34m,\u001b[0m \u001b[0mv\u001b[0m \u001b[0;32min\u001b[0m \u001b[0mspecies_mapping\u001b[0m\u001b[0;34m.\u001b[0m\u001b[0mitems\u001b[0m\u001b[0;34m(\u001b[0m\u001b[0;34m)\u001b[0m\u001b[0;34m}\u001b[0m\u001b[0;34m\u001b[0m\u001b[0;34m\u001b[0m\u001b[0m\n\u001b[0m\u001b[1;32m    476\u001b[0m         \u001b[0msp_to_replace\u001b[0m \u001b[0;34m=\u001b[0m \u001b[0mset\u001b[0m\u001b[0;34m(\u001b[0m\u001b[0msp_mapping\u001b[0m\u001b[0;34m.\u001b[0m\u001b[0mkeys\u001b[0m\u001b[0;34m(\u001b[0m\u001b[0;34m)\u001b[0m\u001b[0;34m)\u001b[0m\u001b[0;34m\u001b[0m\u001b[0;34m\u001b[0m\u001b[0m\n\u001b[1;32m    477\u001b[0m         \u001b[0msp_in_structure\u001b[0m \u001b[0;34m=\u001b[0m \u001b[0mset\u001b[0m\u001b[0;34m(\u001b[0m\u001b[0mself\u001b[0m\u001b[0;34m.\u001b[0m\u001b[0mcomposition\u001b[0m\u001b[0;34m.\u001b[0m\u001b[0mkeys\u001b[0m\u001b[0;34m(\u001b[0m\u001b[0;34m)\u001b[0m\u001b[0;34m)\u001b[0m\u001b[0;34m\u001b[0m\u001b[0;34m\u001b[0m\u001b[0m\n",
      "\u001b[0;32m~/.local/lib/python3.8/site-packages/pymatgen/core/structure.py\u001b[0m in \u001b[0;36m<dictcomp>\u001b[0;34m(.0)\u001b[0m\n\u001b[1;32m    473\u001b[0m         \"\"\"\n\u001b[1;32m    474\u001b[0m \u001b[0;34m\u001b[0m\u001b[0m\n\u001b[0;32m--> 475\u001b[0;31m         \u001b[0msp_mapping\u001b[0m \u001b[0;34m=\u001b[0m \u001b[0;34m{\u001b[0m\u001b[0mget_el_sp\u001b[0m\u001b[0;34m(\u001b[0m\u001b[0mk\u001b[0m\u001b[0;34m)\u001b[0m\u001b[0;34m:\u001b[0m \u001b[0mv\u001b[0m \u001b[0;32mfor\u001b[0m \u001b[0mk\u001b[0m\u001b[0;34m,\u001b[0m \u001b[0mv\u001b[0m \u001b[0;32min\u001b[0m \u001b[0mspecies_mapping\u001b[0m\u001b[0;34m.\u001b[0m\u001b[0mitems\u001b[0m\u001b[0;34m(\u001b[0m\u001b[0;34m)\u001b[0m\u001b[0;34m}\u001b[0m\u001b[0;34m\u001b[0m\u001b[0;34m\u001b[0m\u001b[0m\n\u001b[0m\u001b[1;32m    476\u001b[0m         \u001b[0msp_to_replace\u001b[0m \u001b[0;34m=\u001b[0m \u001b[0mset\u001b[0m\u001b[0;34m(\u001b[0m\u001b[0msp_mapping\u001b[0m\u001b[0;34m.\u001b[0m\u001b[0mkeys\u001b[0m\u001b[0;34m(\u001b[0m\u001b[0;34m)\u001b[0m\u001b[0;34m)\u001b[0m\u001b[0;34m\u001b[0m\u001b[0;34m\u001b[0m\u001b[0m\n\u001b[1;32m    477\u001b[0m         \u001b[0msp_in_structure\u001b[0m \u001b[0;34m=\u001b[0m \u001b[0mset\u001b[0m\u001b[0;34m(\u001b[0m\u001b[0mself\u001b[0m\u001b[0;34m.\u001b[0m\u001b[0mcomposition\u001b[0m\u001b[0;34m.\u001b[0m\u001b[0mkeys\u001b[0m\u001b[0;34m(\u001b[0m\u001b[0;34m)\u001b[0m\u001b[0;34m)\u001b[0m\u001b[0;34m\u001b[0m\u001b[0;34m\u001b[0m\u001b[0m\n",
      "\u001b[0;32m~/.local/lib/python3.8/site-packages/pymatgen/core/periodic_table.py\u001b[0m in \u001b[0;36mget_el_sp\u001b[0;34m(obj)\u001b[0m\n\u001b[1;32m   1596\u001b[0m                 \u001b[0;32mreturn\u001b[0m \u001b[0mDummySpecies\u001b[0m\u001b[0;34m.\u001b[0m\u001b[0mfrom_string\u001b[0m\u001b[0;34m(\u001b[0m\u001b[0mobj\u001b[0m\u001b[0;34m)\u001b[0m\u001b[0;34m\u001b[0m\u001b[0;34m\u001b[0m\u001b[0m\n\u001b[1;32m   1597\u001b[0m             \u001b[0;32mexcept\u001b[0m \u001b[0mException\u001b[0m\u001b[0;34m:\u001b[0m\u001b[0;34m\u001b[0m\u001b[0;34m\u001b[0m\u001b[0m\n\u001b[0;32m-> 1598\u001b[0;31m                 \u001b[0;32mraise\u001b[0m \u001b[0mValueError\u001b[0m\u001b[0;34m(\u001b[0m\u001b[0;34m\"Can't parse Element or String from type\"\u001b[0m \u001b[0;34m\" %s: %s.\"\u001b[0m \u001b[0;34m%\u001b[0m \u001b[0;34m(\u001b[0m\u001b[0mtype\u001b[0m\u001b[0;34m(\u001b[0m\u001b[0mobj\u001b[0m\u001b[0;34m)\u001b[0m\u001b[0;34m,\u001b[0m \u001b[0mobj\u001b[0m\u001b[0;34m)\u001b[0m\u001b[0;34m)\u001b[0m\u001b[0;34m\u001b[0m\u001b[0;34m\u001b[0m\u001b[0m\n\u001b[0m",
      "\u001b[0;31mValueError\u001b[0m: Can't parse Element or String from type <class 'str'>: {."
     ]
    }
   ],
   "source": [
    "print(structure_substitution(structure_substitution_input_list[0]))"
   ]
  },
  {
   "cell_type": "code",
   "execution_count": 20,
   "id": "235c7415",
   "metadata": {},
   "outputs": [],
   "source": [
    "with open('./new_order_data/01_3_structure_sub.txt','a') as f:\n",
    "    f.writelines(str(structure_substitution(structure_substitution_input_list[0]))+',\\n')"
   ]
  },
  {
   "cell_type": "code",
   "execution_count": null,
   "id": "41b992ca",
   "metadata": {
    "scrolled": true,
    "tags": []
   },
   "outputs": [
    {
     "data": {
      "application/vnd.jupyter.widget-view+json": {
       "model_id": "01b25e2fc002435fa4b8828e797d6535",
       "version_major": 2,
       "version_minor": 0
      },
      "text/plain": [
       "0it [00:00, ?it/s]"
      ]
     },
     "metadata": {},
     "output_type": "display_data"
    },
    {
     "name": "stderr",
     "output_type": "stream",
     "text": [
      "/home/kjs4697/.local/lib/python3.8/site-packages/pymatgen/io/cif.py:1165: UserWarning: Issues encountered while parsing CIF: Some fractional co-ordinates rounded to ideal values to avoid issues with finite precision.\n",
      "  warnings.warn(\"Issues encountered while parsing CIF: %s\" % \"\\n\".join(self.warnings))\n",
      "/home/kjs4697/.local/lib/python3.8/site-packages/pymatgen/io/cif.py:1165: UserWarning: Issues encountered while parsing CIF: Some fractional co-ordinates rounded to ideal values to avoid issues with finite precision.\n",
      "  warnings.warn(\"Issues encountered while parsing CIF: %s\" % \"\\n\".join(self.warnings))\n",
      "/home/kjs4697/.local/lib/python3.8/site-packages/pymatgen/io/cif.py:1165: UserWarning: Issues encountered while parsing CIF: Some fractional co-ordinates rounded to ideal values to avoid issues with finite precision.\n",
      "  warnings.warn(\"Issues encountered while parsing CIF: %s\" % \"\\n\".join(self.warnings))\n",
      "/home/kjs4697/.local/lib/python3.8/site-packages/pymatgen/io/cif.py:1165: UserWarning: Issues encountered while parsing CIF: Some fractional co-ordinates rounded to ideal values to avoid issues with finite precision.\n",
      "  warnings.warn(\"Issues encountered while parsing CIF: %s\" % \"\\n\".join(self.warnings))\n",
      "/home/kjs4697/.local/lib/python3.8/site-packages/pymatgen/io/cif.py:1165: UserWarning: Issues encountered while parsing CIF: Some fractional co-ordinates rounded to ideal values to avoid issues with finite precision.\n",
      "  warnings.warn(\"Issues encountered while parsing CIF: %s\" % \"\\n\".join(self.warnings))\n",
      "/home/kjs4697/.local/lib/python3.8/site-packages/pymatgen/io/cif.py:1165: UserWarning: Issues encountered while parsing CIF: Some fractional co-ordinates rounded to ideal values to avoid issues with finite precision.\n",
      "  warnings.warn(\"Issues encountered while parsing CIF: %s\" % \"\\n\".join(self.warnings))\n",
      "/home/kjs4697/.local/lib/python3.8/site-packages/pymatgen/io/cif.py:1165: UserWarning: Issues encountered while parsing CIF: Some fractional co-ordinates rounded to ideal values to avoid issues with finite precision.\n",
      "  warnings.warn(\"Issues encountered while parsing CIF: %s\" % \"\\n\".join(self.warnings))\n",
      "/home/kjs4697/.local/lib/python3.8/site-packages/pymatgen/io/cif.py:1165: UserWarning: Issues encountered while parsing CIF: Some fractional co-ordinates rounded to ideal values to avoid issues with finite precision.\n",
      "  warnings.warn(\"Issues encountered while parsing CIF: %s\" % \"\\n\".join(self.warnings))\n"
     ]
    }
   ],
   "source": [
    "num_cores = multi.cpu_count() # 8\n",
    "\n",
    "# memory = Memory('./data/structure_substitution_multiprocesser',verbose=0)\n",
    "# structure_substitution_cached = memory.cache(structure_substitution)\n",
    "\n",
    "with multi.Pool(num_cores) as pool:\n",
    "    structure_substitution_result = list(tqdm(pool.imap(structure_substitution, structure_substitution_input_list)))\n",
    "\n",
    "structure_substitution_result"
   ]
  },
  {
   "cell_type": "code",
   "execution_count": 31,
   "id": "3cd84496",
   "metadata": {
    "scrolled": true,
    "tags": []
   },
   "outputs": [
    {
     "name": "stderr",
     "output_type": "stream",
     "text": [
      "Process ForkPoolWorker-28:\n",
      "Process ForkPoolWorker-25:\n",
      "Process ForkPoolWorker-27:\n",
      "Process ForkPoolWorker-26:\n",
      "Traceback (most recent call last):\n",
      "  File \"/home/kjs4697/miniconda3/envs/dft/lib/python3.8/multiprocessing/process.py\", line 315, in _bootstrap\n",
      "    self.run()\n",
      "Traceback (most recent call last):\n",
      "Traceback (most recent call last):\n",
      "Traceback (most recent call last):\n",
      "  File \"/home/kjs4697/.local/lib/python3.8/site-packages/pymatgen/io/cif.py\", line 1152, in get_structures\n",
      "    s = self._get_structure(d, primitive, symmetrized)\n",
      "  File \"/home/kjs4697/miniconda3/envs/dft/lib/python3.8/multiprocessing/process.py\", line 315, in _bootstrap\n",
      "    self.run()\n",
      "  File \"/home/kjs4697/miniconda3/envs/dft/lib/python3.8/multiprocessing/process.py\", line 315, in _bootstrap\n",
      "    self.run()\n",
      "  File \"/home/kjs4697/miniconda3/envs/dft/lib/python3.8/multiprocessing/process.py\", line 315, in _bootstrap\n",
      "    self.run()\n",
      "  File \"/home/kjs4697/miniconda3/envs/dft/lib/python3.8/multiprocessing/process.py\", line 108, in run\n",
      "    self._target(*self._args, **self._kwargs)\n",
      "  File \"/home/kjs4697/miniconda3/envs/dft/lib/python3.8/multiprocessing/process.py\", line 108, in run\n",
      "    self._target(*self._args, **self._kwargs)\n",
      "  File \"/home/kjs4697/miniconda3/envs/dft/lib/python3.8/multiprocessing/process.py\", line 108, in run\n",
      "    self._target(*self._args, **self._kwargs)\n",
      "  File \"/home/kjs4697/miniconda3/envs/dft/lib/python3.8/multiprocessing/process.py\", line 108, in run\n",
      "    self._target(*self._args, **self._kwargs)\n",
      "  File \"/home/kjs4697/miniconda3/envs/dft/lib/python3.8/multiprocessing/pool.py\", line 125, in worker\n",
      "    result = (True, func(*args, **kwds))\n",
      "  File \"/home/kjs4697/miniconda3/envs/dft/lib/python3.8/multiprocessing/pool.py\", line 125, in worker\n",
      "    result = (True, func(*args, **kwds))\n",
      "  File \"/home/kjs4697/miniconda3/envs/dft/lib/python3.8/multiprocessing/pool.py\", line 125, in worker\n",
      "    result = (True, func(*args, **kwds))\n",
      "  File \"/home/kjs4697/miniconda3/envs/dft/lib/python3.8/multiprocessing/pool.py\", line 48, in mapstar\n",
      "    return list(map(*args))\n",
      "  File \"/home/kjs4697/miniconda3/envs/dft/lib/python3.8/multiprocessing/pool.py\", line 48, in mapstar\n",
      "    return list(map(*args))\n",
      "  File \"/home/kjs4697/miniconda3/envs/dft/lib/python3.8/multiprocessing/pool.py\", line 48, in mapstar\n",
      "    return list(map(*args))\n",
      "  File \"/home/kjs4697/miniconda3/envs/dft/lib/python3.8/multiprocessing/pool.py\", line 125, in worker\n",
      "    result = (True, func(*args, **kwds))\n",
      "  File \"/tmp/ipykernel_239977/4039361174.py\", line 3, in structure_substitution_in_file\n",
      "    struc = Structure.from_str(row['ref_cif'],fmt='cif')\n",
      "  File \"/tmp/ipykernel_239977/4039361174.py\", line 10, in structure_substitution_in_file\n",
      "    poscar = struc.to(fmt='poscar')\n",
      "  File \"/tmp/ipykernel_239977/4039361174.py\", line 3, in structure_substitution_in_file\n",
      "    struc = Structure.from_str(row['ref_cif'],fmt='cif')\n",
      "  File \"/home/kjs4697/miniconda3/envs/dft/lib/python3.8/multiprocessing/pool.py\", line 48, in mapstar\n",
      "    return list(map(*args))\n",
      "  File \"/home/kjs4697/.local/lib/python3.8/site-packages/pymatgen/core/structure.py\", line 2391, in from_str\n",
      "    s = parser.get_structures(primitive=primitive)[0]\n",
      "  File \"/home/kjs4697/.local/lib/python3.8/site-packages/pymatgen/core/structure.py\", line 2391, in from_str\n",
      "    s = parser.get_structures(primitive=primitive)[0]\n",
      "  File \"/home/kjs4697/.local/lib/python3.8/site-packages/pymatgen/core/structure.py\", line 2356, in to\n",
      "    return writer.__str__()\n",
      "  File \"/tmp/ipykernel_239977/4039361174.py\", line 3, in structure_substitution_in_file\n",
      "    struc = Structure.from_str(row['ref_cif'],fmt='cif')\n",
      "  File \"/home/kjs4697/.local/lib/python3.8/site-packages/pymatgen/io/cif.py\", line 1152, in get_structures\n",
      "    s = self._get_structure(d, primitive, symmetrized)\n",
      "  File \"/home/kjs4697/.local/lib/python3.8/site-packages/pymatgen/io/cif.py\", line 924, in _get_structure\n",
      "    lattice = self.get_lattice(data)\n",
      "  File \"/home/kjs4697/.local/lib/python3.8/site-packages/pymatgen/io/cif.py\", line 992, in _get_structure\n",
      "    match = get_matching_coord(coord)\n",
      "  File \"/home/kjs4697/.local/lib/python3.8/site-packages/pymatgen/io/vasp/inputs.py\", line 541, in __str__\n",
      "    return self.get_string()\n",
      "  File \"/home/kjs4697/.local/lib/python3.8/site-packages/pymatgen/core/structure.py\", line 2391, in from_str\n",
      "    s = parser.get_structures(primitive=primitive)[0]\n",
      "  File \"/home/kjs4697/.local/lib/python3.8/site-packages/pymatgen/io/cif.py\", line 630, in get_lattice\n",
      "    return Lattice.from_parameters(*lengths, *angles)\n",
      "  File \"/home/kjs4697/.local/lib/python3.8/site-packages/pymatgen/io/cif.py\", line 947, in get_matching_coord\n",
      "    inds = find_in_coord_list_pbc(coords, c, atol=self._site_tolerance)\n",
      "  File \"/home/kjs4697/.local/lib/python3.8/site-packages/pymatgen/io/vasp/inputs.py\", line 495, in get_string\n",
      "    lines.append(\" \".join(self.site_symbols))\n",
      "  File \"/home/kjs4697/.local/lib/python3.8/site-packages/pymatgen/io/cif.py\", line 1152, in get_structures\n",
      "    s = self._get_structure(d, primitive, symmetrized)\n",
      "  File \"/home/kjs4697/.local/lib/python3.8/site-packages/pymatgen/core/lattice.py\", line 363, in from_parameters\n",
      "    return Lattice([vector_a, vector_b, vector_c])\n",
      "  File \"/home/kjs4697/.local/lib/python3.8/site-packages/pymatgen/core/lattice.py\", line 59, in __init__\n",
      "    m = np.array(matrix, dtype=np.float64).reshape((3, 3))\n",
      "  File \"/home/kjs4697/.local/lib/python3.8/site-packages/pymatgen/io/cif.py\", line 960, in _get_structure\n",
      "    num_h = get_num_implicit_hydrogens(data[\"_atom_site_type_symbol\"][i])\n",
      "  File \"/home/kjs4697/.local/lib/python3.8/site-packages/pymatgen/io/vasp/inputs.py\", line 188, in site_symbols\n",
      "    syms = [site.specie.symbol for site in self.structure]\n",
      "  File \"/home/kjs4697/.local/lib/python3.8/site-packages/pymatgen/io/cif.py\", line 921, in get_num_implicit_hydrogens\n",
      "    num_h = {\"Wat\": 2, \"wat\": 2, \"O-H\": 1}\n",
      "  File \"/home/kjs4697/.local/lib/python3.8/site-packages/pymatgen/io/vasp/inputs.py\", line 188, in <listcomp>\n",
      "    syms = [site.specie.symbol for site in self.structure]\n",
      "  File \"/home/kjs4697/.local/lib/python3.8/site-packages/pymatgen/core/sites.py\", line 191, in specie\n",
      "    return list(self.species.keys())[0]\n",
      "KeyboardInterrupt\n",
      "KeyboardInterrupt\n",
      "KeyboardInterrupt\n",
      "  File \"/home/kjs4697/.local/lib/python3.8/site-packages/pymatgen/util/coord.py\", line 223, in find_in_coord_list_pbc\n",
      "    fcoords = np.tile(fcoord, (len(fcoord_list), 1))\n",
      "  File \"<__array_function__ internals>\", line 5, in tile\n",
      "  File \"/home/kjs4697/miniconda3/envs/dft/lib/python3.8/site-packages/numpy/lib/shape_base.py\", line 1253, in tile\n",
      "    shape_out = tuple(s*t for s, t in zip(c.shape, tup))\n",
      "  File \"/home/kjs4697/miniconda3/envs/dft/lib/python3.8/site-packages/numpy/lib/shape_base.py\", line 1253, in <genexpr>\n",
      "    shape_out = tuple(s*t for s, t in zip(c.shape, tup))\n",
      "KeyboardInterrupt\n"
     ]
    },
    {
     "ename": "KeyboardInterrupt",
     "evalue": "",
     "output_type": "error",
     "traceback": [
      "\u001b[0;31m---------------------------------------------------------------------------\u001b[0m",
      "\u001b[0;31mKeyboardInterrupt\u001b[0m                         Traceback (most recent call last)",
      "\u001b[0;32m/tmp/ipykernel_239977/1107040871.py\u001b[0m in \u001b[0;36m<module>\u001b[0;34m\u001b[0m\n\u001b[1;32m      5\u001b[0m \u001b[0;34m\u001b[0m\u001b[0m\n\u001b[1;32m      6\u001b[0m \u001b[0;32mwith\u001b[0m \u001b[0mmulti\u001b[0m\u001b[0;34m.\u001b[0m\u001b[0mPool\u001b[0m\u001b[0;34m(\u001b[0m\u001b[0;36m4\u001b[0m\u001b[0;34m)\u001b[0m \u001b[0;32mas\u001b[0m \u001b[0mpool\u001b[0m\u001b[0;34m:\u001b[0m\u001b[0;34m\u001b[0m\u001b[0;34m\u001b[0m\u001b[0m\n\u001b[0;32m----> 7\u001b[0;31m     \u001b[0mtqdm\u001b[0m\u001b[0;34m(\u001b[0m\u001b[0mpool\u001b[0m\u001b[0;34m.\u001b[0m\u001b[0mmap\u001b[0m\u001b[0;34m(\u001b[0m\u001b[0mstructure_substitution_in_file\u001b[0m\u001b[0;34m,\u001b[0m \u001b[0mstructure_substitution_input_list\u001b[0m\u001b[0;34m)\u001b[0m\u001b[0;34m)\u001b[0m\u001b[0;34m\u001b[0m\u001b[0;34m\u001b[0m\u001b[0m\n\u001b[0m\u001b[1;32m      8\u001b[0m \u001b[0;34m\u001b[0m\u001b[0m\n",
      "\u001b[0;32m~/miniconda3/envs/dft/lib/python3.8/multiprocessing/pool.py\u001b[0m in \u001b[0;36mmap\u001b[0;34m(self, func, iterable, chunksize)\u001b[0m\n\u001b[1;32m    362\u001b[0m         \u001b[0;32min\u001b[0m \u001b[0ma\u001b[0m \u001b[0mlist\u001b[0m \u001b[0mthat\u001b[0m \u001b[0;32mis\u001b[0m \u001b[0mreturned\u001b[0m\u001b[0;34m.\u001b[0m\u001b[0;34m\u001b[0m\u001b[0;34m\u001b[0m\u001b[0m\n\u001b[1;32m    363\u001b[0m         '''\n\u001b[0;32m--> 364\u001b[0;31m         \u001b[0;32mreturn\u001b[0m \u001b[0mself\u001b[0m\u001b[0;34m.\u001b[0m\u001b[0m_map_async\u001b[0m\u001b[0;34m(\u001b[0m\u001b[0mfunc\u001b[0m\u001b[0;34m,\u001b[0m \u001b[0miterable\u001b[0m\u001b[0;34m,\u001b[0m \u001b[0mmapstar\u001b[0m\u001b[0;34m,\u001b[0m \u001b[0mchunksize\u001b[0m\u001b[0;34m)\u001b[0m\u001b[0;34m.\u001b[0m\u001b[0mget\u001b[0m\u001b[0;34m(\u001b[0m\u001b[0;34m)\u001b[0m\u001b[0;34m\u001b[0m\u001b[0;34m\u001b[0m\u001b[0m\n\u001b[0m\u001b[1;32m    365\u001b[0m \u001b[0;34m\u001b[0m\u001b[0m\n\u001b[1;32m    366\u001b[0m     \u001b[0;32mdef\u001b[0m \u001b[0mstarmap\u001b[0m\u001b[0;34m(\u001b[0m\u001b[0mself\u001b[0m\u001b[0;34m,\u001b[0m \u001b[0mfunc\u001b[0m\u001b[0;34m,\u001b[0m \u001b[0miterable\u001b[0m\u001b[0;34m,\u001b[0m \u001b[0mchunksize\u001b[0m\u001b[0;34m=\u001b[0m\u001b[0;32mNone\u001b[0m\u001b[0;34m)\u001b[0m\u001b[0;34m:\u001b[0m\u001b[0;34m\u001b[0m\u001b[0;34m\u001b[0m\u001b[0m\n",
      "\u001b[0;32m~/miniconda3/envs/dft/lib/python3.8/multiprocessing/pool.py\u001b[0m in \u001b[0;36mget\u001b[0;34m(self, timeout)\u001b[0m\n\u001b[1;32m    763\u001b[0m \u001b[0;34m\u001b[0m\u001b[0m\n\u001b[1;32m    764\u001b[0m     \u001b[0;32mdef\u001b[0m \u001b[0mget\u001b[0m\u001b[0;34m(\u001b[0m\u001b[0mself\u001b[0m\u001b[0;34m,\u001b[0m \u001b[0mtimeout\u001b[0m\u001b[0;34m=\u001b[0m\u001b[0;32mNone\u001b[0m\u001b[0;34m)\u001b[0m\u001b[0;34m:\u001b[0m\u001b[0;34m\u001b[0m\u001b[0;34m\u001b[0m\u001b[0m\n\u001b[0;32m--> 765\u001b[0;31m         \u001b[0mself\u001b[0m\u001b[0;34m.\u001b[0m\u001b[0mwait\u001b[0m\u001b[0;34m(\u001b[0m\u001b[0mtimeout\u001b[0m\u001b[0;34m)\u001b[0m\u001b[0;34m\u001b[0m\u001b[0;34m\u001b[0m\u001b[0m\n\u001b[0m\u001b[1;32m    766\u001b[0m         \u001b[0;32mif\u001b[0m \u001b[0;32mnot\u001b[0m \u001b[0mself\u001b[0m\u001b[0;34m.\u001b[0m\u001b[0mready\u001b[0m\u001b[0;34m(\u001b[0m\u001b[0;34m)\u001b[0m\u001b[0;34m:\u001b[0m\u001b[0;34m\u001b[0m\u001b[0;34m\u001b[0m\u001b[0m\n\u001b[1;32m    767\u001b[0m             \u001b[0;32mraise\u001b[0m \u001b[0mTimeoutError\u001b[0m\u001b[0;34m\u001b[0m\u001b[0;34m\u001b[0m\u001b[0m\n",
      "\u001b[0;32m~/miniconda3/envs/dft/lib/python3.8/multiprocessing/pool.py\u001b[0m in \u001b[0;36mwait\u001b[0;34m(self, timeout)\u001b[0m\n\u001b[1;32m    760\u001b[0m \u001b[0;34m\u001b[0m\u001b[0m\n\u001b[1;32m    761\u001b[0m     \u001b[0;32mdef\u001b[0m \u001b[0mwait\u001b[0m\u001b[0;34m(\u001b[0m\u001b[0mself\u001b[0m\u001b[0;34m,\u001b[0m \u001b[0mtimeout\u001b[0m\u001b[0;34m=\u001b[0m\u001b[0;32mNone\u001b[0m\u001b[0;34m)\u001b[0m\u001b[0;34m:\u001b[0m\u001b[0;34m\u001b[0m\u001b[0;34m\u001b[0m\u001b[0m\n\u001b[0;32m--> 762\u001b[0;31m         \u001b[0mself\u001b[0m\u001b[0;34m.\u001b[0m\u001b[0m_event\u001b[0m\u001b[0;34m.\u001b[0m\u001b[0mwait\u001b[0m\u001b[0;34m(\u001b[0m\u001b[0mtimeout\u001b[0m\u001b[0;34m)\u001b[0m\u001b[0;34m\u001b[0m\u001b[0;34m\u001b[0m\u001b[0m\n\u001b[0m\u001b[1;32m    763\u001b[0m \u001b[0;34m\u001b[0m\u001b[0m\n\u001b[1;32m    764\u001b[0m     \u001b[0;32mdef\u001b[0m \u001b[0mget\u001b[0m\u001b[0;34m(\u001b[0m\u001b[0mself\u001b[0m\u001b[0;34m,\u001b[0m \u001b[0mtimeout\u001b[0m\u001b[0;34m=\u001b[0m\u001b[0;32mNone\u001b[0m\u001b[0;34m)\u001b[0m\u001b[0;34m:\u001b[0m\u001b[0;34m\u001b[0m\u001b[0;34m\u001b[0m\u001b[0m\n",
      "\u001b[0;32m~/miniconda3/envs/dft/lib/python3.8/threading.py\u001b[0m in \u001b[0;36mwait\u001b[0;34m(self, timeout)\u001b[0m\n\u001b[1;32m    556\u001b[0m             \u001b[0msignaled\u001b[0m \u001b[0;34m=\u001b[0m \u001b[0mself\u001b[0m\u001b[0;34m.\u001b[0m\u001b[0m_flag\u001b[0m\u001b[0;34m\u001b[0m\u001b[0;34m\u001b[0m\u001b[0m\n\u001b[1;32m    557\u001b[0m             \u001b[0;32mif\u001b[0m \u001b[0;32mnot\u001b[0m \u001b[0msignaled\u001b[0m\u001b[0;34m:\u001b[0m\u001b[0;34m\u001b[0m\u001b[0;34m\u001b[0m\u001b[0m\n\u001b[0;32m--> 558\u001b[0;31m                 \u001b[0msignaled\u001b[0m \u001b[0;34m=\u001b[0m \u001b[0mself\u001b[0m\u001b[0;34m.\u001b[0m\u001b[0m_cond\u001b[0m\u001b[0;34m.\u001b[0m\u001b[0mwait\u001b[0m\u001b[0;34m(\u001b[0m\u001b[0mtimeout\u001b[0m\u001b[0;34m)\u001b[0m\u001b[0;34m\u001b[0m\u001b[0;34m\u001b[0m\u001b[0m\n\u001b[0m\u001b[1;32m    559\u001b[0m             \u001b[0;32mreturn\u001b[0m \u001b[0msignaled\u001b[0m\u001b[0;34m\u001b[0m\u001b[0;34m\u001b[0m\u001b[0m\n\u001b[1;32m    560\u001b[0m \u001b[0;34m\u001b[0m\u001b[0m\n",
      "\u001b[0;32m~/miniconda3/envs/dft/lib/python3.8/threading.py\u001b[0m in \u001b[0;36mwait\u001b[0;34m(self, timeout)\u001b[0m\n\u001b[1;32m    300\u001b[0m         \u001b[0;32mtry\u001b[0m\u001b[0;34m:\u001b[0m    \u001b[0;31m# restore state no matter what (e.g., KeyboardInterrupt)\u001b[0m\u001b[0;34m\u001b[0m\u001b[0;34m\u001b[0m\u001b[0m\n\u001b[1;32m    301\u001b[0m             \u001b[0;32mif\u001b[0m \u001b[0mtimeout\u001b[0m \u001b[0;32mis\u001b[0m \u001b[0;32mNone\u001b[0m\u001b[0;34m:\u001b[0m\u001b[0;34m\u001b[0m\u001b[0;34m\u001b[0m\u001b[0m\n\u001b[0;32m--> 302\u001b[0;31m                 \u001b[0mwaiter\u001b[0m\u001b[0;34m.\u001b[0m\u001b[0macquire\u001b[0m\u001b[0;34m(\u001b[0m\u001b[0;34m)\u001b[0m\u001b[0;34m\u001b[0m\u001b[0;34m\u001b[0m\u001b[0m\n\u001b[0m\u001b[1;32m    303\u001b[0m                 \u001b[0mgotit\u001b[0m \u001b[0;34m=\u001b[0m \u001b[0;32mTrue\u001b[0m\u001b[0;34m\u001b[0m\u001b[0;34m\u001b[0m\u001b[0m\n\u001b[1;32m    304\u001b[0m             \u001b[0;32melse\u001b[0m\u001b[0;34m:\u001b[0m\u001b[0;34m\u001b[0m\u001b[0;34m\u001b[0m\u001b[0m\n",
      "\u001b[0;31mKeyboardInterrupt\u001b[0m: "
     ]
    }
   ],
   "source": [
    "num_cores = multi.cpu_count() # 8\n",
    "\n",
    "# memory = Memory('./data/structure_substitution_multiprocesser',verbose=0)\n",
    "# structure_substitution_cached = memory.cache(structure_substitution)\n",
    "\n",
    "with multi.Pool(4) as pool:\n",
    "    tqdm(pool.map(structure_substitution_in_file, structure_substitution_input_list))\n",
    "\n"
   ]
  },
  {
   "cell_type": "code",
   "execution_count": 47,
   "id": "bd802d96",
   "metadata": {},
   "outputs": [
    {
     "data": {
      "application/vnd.jupyter.widget-view+json": {
       "model_id": "21adfa2a6ce641ec9f175ae469efc4e4",
       "version_major": 2,
       "version_minor": 0
      },
      "text/plain": [
       "  0%|          | 0/200 [00:00<?, ?it/s]"
      ]
     },
     "metadata": {},
     "output_type": "display_data"
    },
    {
     "name": "stderr",
     "output_type": "stream",
     "text": [
      "/home/kjs4697/.local/lib/python3.8/site-packages/pymatgen/io/cif.py:1165: UserWarning: Issues encountered while parsing CIF: Some fractional co-ordinates rounded to ideal values to avoid issues with finite precision.\n",
      "  warnings.warn(\"Issues encountered while parsing CIF: %s\" % \"\\n\".join(self.warnings))\n",
      "/home/kjs4697/.local/lib/python3.8/site-packages/pymatgen/io/cif.py:1165: UserWarning: Issues encountered while parsing CIF: Some fractional co-ordinates rounded to ideal values to avoid issues with finite precision.\n",
      "  warnings.warn(\"Issues encountered while parsing CIF: %s\" % \"\\n\".join(self.warnings))\n",
      "/home/kjs4697/.local/lib/python3.8/site-packages/pymatgen/io/cif.py:1165: UserWarning: Issues encountered while parsing CIF: Some fractional co-ordinates rounded to ideal values to avoid issues with finite precision.\n",
      "  warnings.warn(\"Issues encountered while parsing CIF: %s\" % \"\\n\".join(self.warnings))\n",
      "/home/kjs4697/.local/lib/python3.8/site-packages/pymatgen/io/cif.py:1165: UserWarning: Issues encountered while parsing CIF: Some fractional co-ordinates rounded to ideal values to avoid issues with finite precision.\n",
      "  warnings.warn(\"Issues encountered while parsing CIF: %s\" % \"\\n\".join(self.warnings))\n",
      "/home/kjs4697/.local/lib/python3.8/site-packages/pymatgen/io/cif.py:1165: UserWarning: Issues encountered while parsing CIF: Some fractional co-ordinates rounded to ideal values to avoid issues with finite precision.\n",
      "  warnings.warn(\"Issues encountered while parsing CIF: %s\" % \"\\n\".join(self.warnings))\n"
     ]
    }
   ],
   "source": [
    "with open('./new_order_data/01_3_structure_sub.txt','wb') as f:\n",
    "#     f.writelines('[\\n')\n",
    "    pickle.dump('[\\n',f)\n",
    "    \n",
    "parmap.map(structure_substitution_in_file,structure_substitution_input_list[:200],pm_pbar=True)\n",
    "\n",
    "with open('./new_order_data/01_3_structure_sub.txt','ab') as f:\n",
    "#     f.writelines(']')\n",
    "    pickle.dump(']',f)"
   ]
  },
  {
   "cell_type": "code",
   "execution_count": 56,
   "id": "08f2f79c",
   "metadata": {},
   "outputs": [],
   "source": [
    "with open('./new_order_data/01_3_structure_sub.txt','rb') as f:\n",
    "#     f.writelines(']')\n",
    "    te = pickle.load(f)\n",
    "    te2 = pickle.load(f)"
   ]
  },
  {
   "cell_type": "code",
   "execution_count": 57,
   "id": "0d95526c",
   "metadata": {},
   "outputs": [
    {
     "data": {
      "text/plain": [
       "'[\\n'"
      ]
     },
     "execution_count": 57,
     "metadata": {},
     "output_type": "execute_result"
    }
   ],
   "source": [
    "te"
   ]
  },
  {
   "cell_type": "code",
   "execution_count": 12,
   "id": "e045c8a0",
   "metadata": {},
   "outputs": [],
   "source": [
    "structure_substitution_in_file(structure_substitution_input_list[0])"
   ]
  },
  {
   "cell_type": "code",
   "execution_count": null,
   "id": "01962d21",
   "metadata": {
    "scrolled": true,
    "tags": []
   },
   "outputs": [
    {
     "data": {
      "application/vnd.jupyter.widget-view+json": {
       "model_id": "0551112b55cc44248510d87a248dd46d",
       "version_major": 2,
       "version_minor": 0
      },
      "text/plain": [
       "  0%|          | 0/26549208 [00:02<?, ?it/s]"
      ]
     },
     "metadata": {},
     "output_type": "display_data"
    },
    {
     "name": "stderr",
     "output_type": "stream",
     "text": [
      "/home/kjs4697/.local/lib/python3.8/site-packages/pymatgen/io/cif.py:1165: UserWarning: Issues encountered while parsing CIF: Some fractional co-ordinates rounded to ideal values to avoid issues with finite precision.\n",
      "  warnings.warn(\"Issues encountered while parsing CIF: %s\" % \"\\n\".join(self.warnings))\n",
      "/home/kjs4697/.local/lib/python3.8/site-packages/pymatgen/io/cif.py:1165: UserWarning: Issues encountered while parsing CIF: Some fractional co-ordinates rounded to ideal values to avoid issues with finite precision.\n",
      "  warnings.warn(\"Issues encountered while parsing CIF: %s\" % \"\\n\".join(self.warnings))\n",
      "/home/kjs4697/.local/lib/python3.8/site-packages/pymatgen/io/cif.py:1165: UserWarning: Issues encountered while parsing CIF: Some fractional co-ordinates rounded to ideal values to avoid issues with finite precision.\n",
      "  warnings.warn(\"Issues encountered while parsing CIF: %s\" % \"\\n\".join(self.warnings))\n",
      "/home/kjs4697/.local/lib/python3.8/site-packages/pymatgen/io/cif.py:1165: UserWarning: Issues encountered while parsing CIF: Some fractional co-ordinates rounded to ideal values to avoid issues with finite precision.\n",
      "  warnings.warn(\"Issues encountered while parsing CIF: %s\" % \"\\n\".join(self.warnings))\n"
     ]
    }
   ],
   "source": [
    "with open('./new_order_data/01_3_structure_sub.txt','w') as f:\n",
    "    f.writelines('[\\n')\n",
    "    \n",
    "parmap.map(structure_substitution_in_file,structure_substitution_input_list,pm_pbar=True,pm_processes=4)\n",
    "\n",
    "with open('./new_order_data/01_3_structure_sub.txt','a') as f:\n",
    "    f.writelines(']')"
   ]
  },
  {
   "cell_type": "code",
   "execution_count": 18,
   "id": "4fb81d4f",
   "metadata": {},
   "outputs": [
    {
     "data": {
      "text/plain": [
       "200"
      ]
     },
     "execution_count": 18,
     "metadata": {},
     "output_type": "execute_result"
    }
   ],
   "source": [
    "with open('./new_order_data/01_3_structure_sub.txt','rt') as f:\n",
    "    ll = f.read()\n",
    "len(literal_eval(ll))"
   ]
  },
  {
   "cell_type": "code",
   "execution_count": 16,
   "id": "ced2b960",
   "metadata": {},
   "outputs": [
    {
     "data": {
      "text/plain": [
       "[[1], [2]]"
      ]
     },
     "execution_count": 16,
     "metadata": {},
     "output_type": "execute_result"
    }
   ],
   "source": [
    "literal_eval('[[1],\\n[2]]')"
   ]
  },
  {
   "cell_type": "code",
   "execution_count": null,
   "id": "4e857725",
   "metadata": {},
   "outputs": [],
   "source": []
  },
  {
   "cell_type": "code",
   "execution_count": null,
   "id": "db82d7fa",
   "metadata": {},
   "outputs": [],
   "source": [
    "structure_substitution_result_df = pd.DataFrame(structure_substitution_result,columns=['mpid','sub_comp','poscar'])\n",
    "structure_substitution_result_df"
   ]
  },
  {
   "cell_type": "code",
   "execution_count": null,
   "id": "82443970",
   "metadata": {},
   "outputs": [],
   "source": [
    "structure_substitution_final_df = pd.merge(selected_structure_df,structure_substitution_result_df,on=['mpid','sub_comp'],how='right')"
   ]
  },
  {
   "cell_type": "code",
   "execution_count": null,
   "id": "3b31e04c",
   "metadata": {},
   "outputs": [],
   "source": [
    "structure_substitution_final_df.to_csv('./new_order_data/01_4_structure_substitution_final.csv',index=False)"
   ]
  },
  {
   "cell_type": "code",
   "execution_count": null,
   "id": "ba3a02da",
   "metadata": {},
   "outputs": [],
   "source": []
  }
 ],
 "metadata": {
  "kernelspec": {
   "display_name": "Python 3 (ipykernel)",
   "language": "python",
   "name": "python3"
  },
  "language_info": {
   "codemirror_mode": {
    "name": "ipython",
    "version": 3
   },
   "file_extension": ".py",
   "mimetype": "text/x-python",
   "name": "python",
   "nbconvert_exporter": "python",
   "pygments_lexer": "ipython3",
   "version": "3.8.5"
  }
 },
 "nbformat": 4,
 "nbformat_minor": 5
}
